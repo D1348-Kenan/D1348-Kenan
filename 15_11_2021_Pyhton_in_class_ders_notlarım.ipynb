{
  "nbformat": 4,
  "nbformat_minor": 0,
  "metadata": {
    "colab": {
      "name": "15.11 2021 Pyhton in class ders notlarım.ipynb",
      "provenance": [],
      "authorship_tag": "ABX9TyMK2LuTqpbqPMd7darz9s5X",
      "include_colab_link": true
    },
    "kernelspec": {
      "name": "python3",
      "display_name": "Python 3"
    },
    "language_info": {
      "name": "python"
    }
  },
  "cells": [
    {
      "cell_type": "markdown",
      "metadata": {
        "id": "view-in-github",
        "colab_type": "text"
      },
      "source": [
        "<a href=\"https://colab.research.google.com/github/D1348-Kenan/D1348-Kenan/blob/main/15_11_2021_Pyhton_in_class_ders_notlar%C4%B1m.ipynb\" target=\"_parent\"><img src=\"https://colab.research.google.com/assets/colab-badge.svg\" alt=\"Open In Colab\"/></a>"
      ]
    },
    {
      "cell_type": "code",
      "metadata": {
        "id": "aCxnUD-lzxUG"
      },
      "source": [
        ""
      ],
      "execution_count": null,
      "outputs": []
    },
    {
      "cell_type": "code",
      "metadata": {
        "colab": {
          "base_uri": "https://localhost:8080/"
        },
        "id": "c79hHpgLz5M2",
        "outputId": "7196deb8-38ed-4eb3-e566-034cdc2d2eeb"
      },
      "source": [
        "sum = 0\n",
        "for i in range(1, 75) :\n",
        "    sum += i\n",
        "print(sum)"
      ],
      "execution_count": 10,
      "outputs": [
        {
          "output_type": "stream",
          "name": "stdout",
          "text": [
            "2775\n"
          ]
        }
      ]
    },
    {
      "cell_type": "code",
      "metadata": {
        "colab": {
          "base_uri": "https://localhost:8080/"
        },
        "id": "fbMhfzhSz5SN",
        "outputId": "66663f38-81ee-4f94-be02-d43218a42692"
      },
      "source": [
        "who = [\"I am \", \"you are \"]\n",
        "mod = [\"happy\", \"confident\"]\n",
        "\n",
        "for i in who :\n",
        "  for ii in mod :\n",
        "    print(i + ii)"
      ],
      "execution_count": 11,
      "outputs": [
        {
          "output_type": "stream",
          "name": "stdout",
          "text": [
            "I am happy\n",
            "I am confident\n",
            "you are happy\n",
            "you are confident\n"
          ]
        }
      ]
    },
    {
      "cell_type": "code",
      "metadata": {
        "colab": {
          "base_uri": "https://localhost:8080/"
        },
        "id": "lg6Zb3poz5bb",
        "outputId": "08b8bc37-1157-48bd-c534-fa9a8ad79ac5"
      },
      "source": [
        "names = [\"Susan \", \"Tom \", \"Edward \"]\n",
        "mood = [\"is happy\", \"is sad\"]\n",
        "\n",
        "for i in names :\n",
        "  for ii in mood :\n",
        "    print(i + ii)"
      ],
      "execution_count": 12,
      "outputs": [
        {
          "output_type": "stream",
          "name": "stdout",
          "text": [
            "Susan is happy\n",
            "Susan is sad\n",
            "Tom is happy\n",
            "Tom is sad\n",
            "Edward is happy\n",
            "Edward is sad\n"
          ]
        }
      ]
    },
    {
      "cell_type": "code",
      "metadata": {
        "colab": {
          "base_uri": "https://localhost:8080/"
        },
        "id": "jctfqjv8z5kS",
        "outputId": "9850da80-ef2a-4436-aba6-290ba59072b5"
      },
      "source": [
        "names = [\"Susan \", \"Tom \", \"Edward \"]\n",
        "mood = [\"happy\", \"sad\"]\n",
        "\n",
        "for i in names :\n",
        "  for ii in mood :\n",
        "    print(i + \"is \" + ii)"
      ],
      "execution_count": 14,
      "outputs": [
        {
          "output_type": "stream",
          "name": "stdout",
          "text": [
            "Susan is happy\n",
            "Susan is sad\n",
            "Tom is happy\n",
            "Tom is sad\n",
            "Edward is happy\n",
            "Edward is sad\n"
          ]
        }
      ]
    },
    {
      "cell_type": "code",
      "metadata": {
        "colab": {
          "base_uri": "https://localhost:8080/"
        },
        "id": "LUwAcul24N-g",
        "outputId": "43f92d77-3104-4b9d-fcb7-54914e6f0948"
      },
      "source": [
        "v = (\"five\", 5, True)\n",
        "v"
      ],
      "execution_count": 16,
      "outputs": [
        {
          "output_type": "execute_result",
          "data": {
            "text/plain": [
              "('five', 5, True)"
            ]
          },
          "metadata": {},
          "execution_count": 16
        }
      ]
    },
    {
      "cell_type": "code",
      "metadata": {
        "id": "fWjMsgmn4N6l"
      },
      "source": [
        "(x, y, z) = v"
      ],
      "execution_count": 17,
      "outputs": []
    },
    {
      "cell_type": "code",
      "metadata": {
        "colab": {
          "base_uri": "https://localhost:8080/",
          "height": 35
        },
        "id": "J_aKbGLx4N0i",
        "outputId": "0149ff3a-6bc1-4a9e-9efb-fbfec8c480a9"
      },
      "source": [
        "x"
      ],
      "execution_count": 21,
      "outputs": [
        {
          "output_type": "execute_result",
          "data": {
            "application/vnd.google.colaboratory.intrinsic+json": {
              "type": "string"
            },
            "text/plain": [
              "'five'"
            ]
          },
          "metadata": {},
          "execution_count": 21
        }
      ]
    },
    {
      "cell_type": "code",
      "metadata": {
        "colab": {
          "base_uri": "https://localhost:8080/"
        },
        "id": "nZBcO6334NxJ",
        "outputId": "fb9350f9-ddd7-42be-ce9d-04ae4cfe2c8b"
      },
      "source": [
        "y"
      ],
      "execution_count": 22,
      "outputs": [
        {
          "output_type": "execute_result",
          "data": {
            "text/plain": [
              "5"
            ]
          },
          "metadata": {},
          "execution_count": 22
        }
      ]
    },
    {
      "cell_type": "code",
      "metadata": {
        "colab": {
          "base_uri": "https://localhost:8080/"
        },
        "id": "0F_NEp-E4Ns7",
        "outputId": "5dc7c303-4d6a-4657-c268-58a671587086"
      },
      "source": [
        "z"
      ],
      "execution_count": 23,
      "outputs": [
        {
          "output_type": "execute_result",
          "data": {
            "text/plain": [
              "True"
            ]
          },
          "metadata": {},
          "execution_count": 23
        }
      ]
    },
    {
      "cell_type": "code",
      "metadata": {
        "id": "ebPHDT0E4Nog"
      },
      "source": [
        "(monday, tuesday, wednesday, thursday, friday, saturday, sunday) = tuple(range(1,8))"
      ],
      "execution_count": 27,
      "outputs": []
    },
    {
      "cell_type": "code",
      "metadata": {
        "colab": {
          "base_uri": "https://localhost:8080/"
        },
        "id": "mD9QRPjn4Ng6",
        "outputId": "8b9b2565-ba0a-4e02-ab91-9d339e078269"
      },
      "source": [
        "monday"
      ],
      "execution_count": 28,
      "outputs": [
        {
          "output_type": "execute_result",
          "data": {
            "text/plain": [
              "1"
            ]
          },
          "metadata": {},
          "execution_count": 28
        }
      ]
    },
    {
      "cell_type": "code",
      "metadata": {
        "colab": {
          "base_uri": "https://localhost:8080/"
        },
        "id": "lRVcs5Td4Na-",
        "outputId": "e7bc3fac-8278-4a63-f876-394a17248789"
      },
      "source": [
        "sunday"
      ],
      "execution_count": 29,
      "outputs": [
        {
          "output_type": "execute_result",
          "data": {
            "text/plain": [
              "7"
            ]
          },
          "metadata": {},
          "execution_count": 29
        }
      ]
    },
    {
      "cell_type": "code",
      "metadata": {
        "colab": {
          "base_uri": "https://localhost:8080/",
          "height": 164
        },
        "id": "-WogF9I_4NX5",
        "outputId": "42df6ca2-5fa5-42c7-9203-9a9a5cdde58a"
      },
      "source": [
        "a, b = (10, 20, 30, 40)"
      ],
      "execution_count": 31,
      "outputs": [
        {
          "output_type": "error",
          "ename": "ValueError",
          "evalue": "ignored",
          "traceback": [
            "\u001b[0;31m---------------------------------------------------------------------------\u001b[0m",
            "\u001b[0;31mValueError\u001b[0m                                Traceback (most recent call last)",
            "\u001b[0;32m<ipython-input-31-0788392d25ce>\u001b[0m in \u001b[0;36m<module>\u001b[0;34m()\u001b[0m\n\u001b[0;32m----> 1\u001b[0;31m \u001b[0ma\u001b[0m\u001b[0;34m,\u001b[0m \u001b[0mb\u001b[0m \u001b[0;34m=\u001b[0m \u001b[0;34m(\u001b[0m\u001b[0;36m10\u001b[0m\u001b[0;34m,\u001b[0m \u001b[0;36m20\u001b[0m\u001b[0;34m,\u001b[0m \u001b[0;36m30\u001b[0m\u001b[0;34m,\u001b[0m \u001b[0;36m40\u001b[0m\u001b[0;34m)\u001b[0m\u001b[0;34m\u001b[0m\u001b[0;34m\u001b[0m\u001b[0m\n\u001b[0m",
            "\u001b[0;31mValueError\u001b[0m: too many values to unpack (expected 2)"
          ]
        }
      ]
    },
    {
      "cell_type": "code",
      "metadata": {
        "colab": {
          "base_uri": "https://localhost:8080/"
        },
        "id": "eLNSpmhM4NV5",
        "outputId": "ea954685-8aab-4b67-aa4e-5758c5155618"
      },
      "source": [
        "a, _, b, _ = (10, 20, 30, 40)\n",
        "a"
      ],
      "execution_count": 33,
      "outputs": [
        {
          "output_type": "execute_result",
          "data": {
            "text/plain": [
              "10"
            ]
          },
          "metadata": {},
          "execution_count": 33
        }
      ]
    },
    {
      "cell_type": "code",
      "metadata": {
        "colab": {
          "base_uri": "https://localhost:8080/"
        },
        "id": "700Ex6kD4NS7",
        "outputId": "d79e31a1-e73f-451a-9301-95d2341c5749"
      },
      "source": [
        "b"
      ],
      "execution_count": 34,
      "outputs": [
        {
          "output_type": "execute_result",
          "data": {
            "text/plain": [
              "30"
            ]
          },
          "metadata": {},
          "execution_count": 34
        }
      ]
    },
    {
      "cell_type": "code",
      "metadata": {
        "id": "hIcqSn_B4NL9"
      },
      "source": [
        ""
      ],
      "execution_count": null,
      "outputs": []
    },
    {
      "cell_type": "code",
      "metadata": {
        "id": "2QVoKvMz4NGf"
      },
      "source": [
        "x, y, *z = (11, 22, 33, 44, 55)"
      ],
      "execution_count": 37,
      "outputs": []
    },
    {
      "cell_type": "code",
      "metadata": {
        "colab": {
          "base_uri": "https://localhost:8080/"
        },
        "id": "k7oOI2zx4M-9",
        "outputId": "5b5d6de3-27b0-4bd1-d65e-9f980abc73e1"
      },
      "source": [
        "x"
      ],
      "execution_count": 38,
      "outputs": [
        {
          "output_type": "execute_result",
          "data": {
            "text/plain": [
              "11"
            ]
          },
          "metadata": {},
          "execution_count": 38
        }
      ]
    },
    {
      "cell_type": "code",
      "metadata": {
        "colab": {
          "base_uri": "https://localhost:8080/"
        },
        "id": "T7sxbkou4MzC",
        "outputId": "9a6a45fd-8d17-4365-fd9b-5d71c643d6b1"
      },
      "source": [
        "y"
      ],
      "execution_count": 39,
      "outputs": [
        {
          "output_type": "execute_result",
          "data": {
            "text/plain": [
              "22"
            ]
          },
          "metadata": {},
          "execution_count": 39
        }
      ]
    },
    {
      "cell_type": "code",
      "metadata": {
        "colab": {
          "base_uri": "https://localhost:8080/"
        },
        "id": "UYAQWWKs7opa",
        "outputId": "ad3a3e32-fe69-4556-e90c-c75127d65542"
      },
      "source": [
        "z"
      ],
      "execution_count": 40,
      "outputs": [
        {
          "output_type": "execute_result",
          "data": {
            "text/plain": [
              "[33, 44, 55]"
            ]
          },
          "metadata": {},
          "execution_count": 40
        }
      ]
    },
    {
      "cell_type": "code",
      "metadata": {
        "colab": {
          "base_uri": "https://localhost:8080/"
        },
        "id": "xvtuKBz77sfD",
        "outputId": "3d56960b-e3c9-4008-f6e2-3b2b10447a39"
      },
      "source": [
        "x, y, *z, t = (11, 22, 33, 44, 55, 66, 77)\n",
        "z"
      ],
      "execution_count": 42,
      "outputs": [
        {
          "output_type": "execute_result",
          "data": {
            "text/plain": [
              "[33, 44, 55, 66]"
            ]
          },
          "metadata": {},
          "execution_count": 42
        }
      ]
    },
    {
      "cell_type": "code",
      "metadata": {
        "id": "JMDfADD87pHl"
      },
      "source": [
        "x, y, *_, t = (11, 22, 33, 44, 55, 66, 77)\n"
      ],
      "execution_count": 43,
      "outputs": []
    },
    {
      "cell_type": "code",
      "metadata": {
        "colab": {
          "base_uri": "https://localhost:8080/"
        },
        "id": "RZ-xN58K7pXa",
        "outputId": "838dcf01-6121-41c2-dda7-49cd83621d26"
      },
      "source": [
        "x"
      ],
      "execution_count": 45,
      "outputs": [
        {
          "output_type": "execute_result",
          "data": {
            "text/plain": [
              "11"
            ]
          },
          "metadata": {},
          "execution_count": 45
        }
      ]
    },
    {
      "cell_type": "code",
      "metadata": {
        "colab": {
          "base_uri": "https://localhost:8080/"
        },
        "id": "7ow9An3E7piG",
        "outputId": "cf33f59e-96d0-4c09-b664-1d88fd7b19ac"
      },
      "source": [
        "y"
      ],
      "execution_count": 44,
      "outputs": [
        {
          "output_type": "execute_result",
          "data": {
            "text/plain": [
              "22"
            ]
          },
          "metadata": {},
          "execution_count": 44
        }
      ]
    },
    {
      "cell_type": "code",
      "metadata": {
        "colab": {
          "base_uri": "https://localhost:8080/"
        },
        "id": "Hz5_V7dG7p0Z",
        "outputId": "bd39c123-d534-4018-9967-b2389b0e68cb"
      },
      "source": [
        "t"
      ],
      "execution_count": 46,
      "outputs": [
        {
          "output_type": "execute_result",
          "data": {
            "text/plain": [
              "77"
            ]
          },
          "metadata": {},
          "execution_count": 46
        }
      ]
    },
    {
      "cell_type": "code",
      "metadata": {
        "id": "7XDqn5OG7p6p"
      },
      "source": [
        ""
      ],
      "execution_count": null,
      "outputs": []
    },
    {
      "cell_type": "markdown",
      "metadata": {
        "id": "Kn1najzsCzVi"
      },
      "source": [
        "## **List Comprehension**"
      ]
    },
    {
      "cell_type": "code",
      "metadata": {
        "id": "R1g5tG0KCsMy"
      },
      "source": [
        ""
      ],
      "execution_count": null,
      "outputs": []
    },
    {
      "cell_type": "markdown",
      "metadata": {
        "id": "TyA2DY35DZj-"
      },
      "source": [
        "list comprehension'ların temel yapısı:\n",
        "\n",
        "for item in iterable:\n",
        "\n",
        "    expression"
      ]
    },
    {
      "cell_type": "code",
      "metadata": {
        "colab": {
          "base_uri": "https://localhost:8080/"
        },
        "id": "cnHJu2bICsr7",
        "outputId": "1d56e184-7f80-4994-8129-74669baef638"
      },
      "source": [
        "sayılar = []\n",
        "\n",
        "for i in range(5) :\n",
        "  sayılar.append(i)\n",
        "sayılar"
      ],
      "execution_count": 47,
      "outputs": [
        {
          "output_type": "execute_result",
          "data": {
            "text/plain": [
              "[0, 1, 2, 3, 4]"
            ]
          },
          "metadata": {},
          "execution_count": 47
        }
      ]
    },
    {
      "cell_type": "code",
      "metadata": {
        "colab": {
          "base_uri": "https://localhost:8080/"
        },
        "id": "HDMfsAxJCtFl",
        "outputId": "e604f8d2-85c2-4746-e054-dffebdd3b468"
      },
      "source": [
        "[i for i in range(5)]"
      ],
      "execution_count": 49,
      "outputs": [
        {
          "output_type": "execute_result",
          "data": {
            "text/plain": [
              "[0, 1, 2, 3, 4]"
            ]
          },
          "metadata": {},
          "execution_count": 49
        }
      ]
    },
    {
      "cell_type": "code",
      "metadata": {
        "colab": {
          "base_uri": "https://localhost:8080/"
        },
        "id": "TQu3fkCWCtYx",
        "outputId": "a5d5c68c-04ce-4394-d85e-b24a5bf3fd56"
      },
      "source": [
        "[[i**2] for i in range(1,6)]"
      ],
      "execution_count": 53,
      "outputs": [
        {
          "output_type": "execute_result",
          "data": {
            "text/plain": [
              "[[1], [4], [9], [16], [25]]"
            ]
          },
          "metadata": {},
          "execution_count": 53
        }
      ]
    },
    {
      "cell_type": "code",
      "metadata": {
        "colab": {
          "base_uri": "https://localhost:8080/"
        },
        "id": "GF0NtSoUCuan",
        "outputId": "6ae7f52b-3f7e-4592-9207-eaed82f8c277"
      },
      "source": [
        "my_list = [1, 2, 3, 4, 5, 6]\n",
        "new_list = []\n",
        "for i in my_list :\n",
        "  if i % 2 :\n",
        "    new_list.append(i ** 2)\n",
        "new_list\n"
      ],
      "execution_count": 66,
      "outputs": [
        {
          "output_type": "execute_result",
          "data": {
            "text/plain": [
              "[1, 9, 25]"
            ]
          },
          "metadata": {},
          "execution_count": 66
        }
      ]
    },
    {
      "cell_type": "code",
      "metadata": {
        "id": "mRzO0DWyCupX"
      },
      "source": [
        ""
      ],
      "execution_count": 58,
      "outputs": []
    },
    {
      "cell_type": "code",
      "metadata": {
        "id": "BNf-pHDICu6i"
      },
      "source": [
        ""
      ],
      "execution_count": null,
      "outputs": []
    },
    {
      "cell_type": "code",
      "metadata": {
        "colab": {
          "base_uri": "https://localhost:8080/"
        },
        "id": "r1TJwDHb7qBP",
        "outputId": "6cfa7f1a-1e89-4575-f1e4-cf7fdce305da"
      },
      "source": [
        "condition = True\n",
        "\n",
        "if condition :\n",
        "    a= 1\n",
        "else :\n",
        "    a = 0\n",
        "print(a)    "
      ],
      "execution_count": 54,
      "outputs": [
        {
          "output_type": "stream",
          "name": "stdout",
          "text": [
            "1\n"
          ]
        }
      ]
    },
    {
      "cell_type": "code",
      "metadata": {
        "colab": {
          "base_uri": "https://localhost:8080/"
        },
        "id": "xdj2DHKv7qHE",
        "outputId": "3eaf8341-314a-4043-e680-6407e4f6cb00"
      },
      "source": [
        "condition = False\n",
        "1 if condition else 0"
      ],
      "execution_count": 55,
      "outputs": [
        {
          "output_type": "execute_result",
          "data": {
            "text/plain": [
              "0"
            ]
          },
          "metadata": {},
          "execution_count": 55
        }
      ]
    },
    {
      "cell_type": "code",
      "metadata": {
        "id": "J0TOK_sP7qRT"
      },
      "source": [
        ""
      ],
      "execution_count": null,
      "outputs": []
    }
  ]
}