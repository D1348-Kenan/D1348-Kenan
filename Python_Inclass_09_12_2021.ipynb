{
  "nbformat": 4,
  "nbformat_minor": 0,
  "metadata": {
    "colab": {
      "name": "Python Inclass 09.12.2021.ipynb",
      "provenance": [],
      "authorship_tag": "ABX9TyP34ugkVeHZhjdEfmvtGxAW",
      "include_colab_link": true
    },
    "kernelspec": {
      "name": "python3",
      "display_name": "Python 3"
    },
    "language_info": {
      "name": "python"
    }
  },
  "cells": [
    {
      "cell_type": "markdown",
      "metadata": {
        "id": "view-in-github",
        "colab_type": "text"
      },
      "source": [
        "<a href=\"https://colab.research.google.com/github/D1348-Kenan/D1348-Kenan/blob/main/Python_Inclass_09_12_2021.ipynb\" target=\"_parent\"><img src=\"https://colab.research.google.com/assets/colab-badge.svg\" alt=\"Open In Colab\"/></a>"
      ]
    },
    {
      "cell_type": "code",
      "execution_count": null,
      "metadata": {
        "id": "TJnJCVtibc46"
      },
      "outputs": [],
      "source": [
        "command = [\"right 20\", \"right 30\", \"left 50\", \"up 10\", \"down 20\"]"
      ]
    },
    {
      "cell_type": "code",
      "source": [
        "command"
      ],
      "metadata": {
        "colab": {
          "base_uri": "https://localhost:8080/"
        },
        "id": "aMFd25bEbhvU",
        "outputId": "b0178fc1-da29-4677-8a78-6b0210cf0984"
      },
      "execution_count": null,
      "outputs": [
        {
          "output_type": "execute_result",
          "data": {
            "text/plain": [
              "['right 20', 'right 30', 'left 50', 'up 10', 'down 20']"
            ]
          },
          "metadata": {},
          "execution_count": 2
        }
      ]
    },
    {
      "cell_type": "code",
      "source": [
        "x = 0\n",
        "y = 0"
      ],
      "metadata": {
        "id": "YwsFTthzbiHP"
      },
      "execution_count": null,
      "outputs": []
    },
    {
      "cell_type": "code",
      "source": [
        "# [x, y] sonuç olarak [0,-10] istiyoruz."
      ],
      "metadata": {
        "id": "ugzwAC4hbiKP"
      },
      "execution_count": null,
      "outputs": []
    },
    {
      "cell_type": "code",
      "source": [
        "len(command)"
      ],
      "metadata": {
        "colab": {
          "base_uri": "https://localhost:8080/"
        },
        "id": "RGLZCGREbiPC",
        "outputId": "1ca9968f-f43b-452b-92d9-956012beca7d"
      },
      "execution_count": null,
      "outputs": [
        {
          "output_type": "execute_result",
          "data": {
            "text/plain": [
              "5"
            ]
          },
          "metadata": {},
          "execution_count": 5
        }
      ]
    },
    {
      "cell_type": "code",
      "source": [
        "command[-1].split()"
      ],
      "metadata": {
        "colab": {
          "base_uri": "https://localhost:8080/"
        },
        "id": "cTHW2UOCejm0",
        "outputId": "cb2d69e5-8079-4837-f227-986159145a2d"
      },
      "execution_count": null,
      "outputs": [
        {
          "output_type": "execute_result",
          "data": {
            "text/plain": [
              "['down', '20']"
            ]
          },
          "metadata": {},
          "execution_count": 6
        }
      ]
    },
    {
      "cell_type": "code",
      "source": [
        "for i in range(len(command)):\n",
        "  if command[i].startswith(\"r\") : x = x + int(command[i].split()[1])\n",
        "  elif command[i].startswith(\"l\") : x = x - int(command[i].split()[1])\n",
        "  elif command[i].startswith(\"u\") : y = y + int(command[i].split()[1])\n",
        "  elif command[i].startswith(\"d\") : y = y - int(command[i].split()[1])\n",
        "\n",
        "[x, y]"
      ],
      "metadata": {
        "colab": {
          "base_uri": "https://localhost:8080/"
        },
        "id": "Vd1fl2R0biSq",
        "outputId": "f6b7deb9-3b9a-46e7-f362-56c78411f3ab"
      },
      "execution_count": null,
      "outputs": [
        {
          "output_type": "execute_result",
          "data": {
            "text/plain": [
              "[0, -10]"
            ]
          },
          "metadata": {},
          "execution_count": 7
        }
      ]
    },
    {
      "cell_type": "markdown",
      "source": [
        "# **Valid Paranthesis**"
      ],
      "metadata": {
        "id": "eMbWYFislG5R"
      }
    },
    {
      "cell_type": "code",
      "source": [
        "Input           Output  \n",
        "------:         ------:\n",
        "\"()\"            True\n",
        "\"()[]{}\"        True\n",
        "\"(]\"            False\n",
        "\"([)]\"          False\n",
        "\"{[]}\"          True\n",
        "\"\"              True"
      ],
      "metadata": {
        "id": "4dYfdWs4biVj"
      },
      "execution_count": null,
      "outputs": []
    },
    {
      "cell_type": "code",
      "source": [
        ""
      ],
      "metadata": {
        "id": "qxOB3a03lFNz"
      },
      "execution_count": null,
      "outputs": []
    },
    {
      "cell_type": "code",
      "source": [
        "x = \"[([{({})}]({}))\""
      ],
      "metadata": {
        "id": "d6pcbLpLlFK0"
      },
      "execution_count": null,
      "outputs": []
    },
    {
      "cell_type": "code",
      "source": [
        "\"ali-deli-veli\".replace(\"-\", \"+\")"
      ],
      "metadata": {
        "colab": {
          "base_uri": "https://localhost:8080/",
          "height": 35
        },
        "id": "9ibJdO_5lFHY",
        "outputId": "240abac6-f34c-4c6b-8874-77556b626923"
      },
      "execution_count": null,
      "outputs": [
        {
          "output_type": "execute_result",
          "data": {
            "application/vnd.google.colaboratory.intrinsic+json": {
              "type": "string"
            },
            "text/plain": [
              "'ali+deli+veli'"
            ]
          },
          "metadata": {},
          "execution_count": 9
        }
      ]
    },
    {
      "cell_type": "code",
      "source": [
        "\"ali-deli-veli\".replace(\"-\", \"\")"
      ],
      "metadata": {
        "colab": {
          "base_uri": "https://localhost:8080/",
          "height": 35
        },
        "id": "pPSUN-GjlFEN",
        "outputId": "dc3cbd11-ae10-44c9-ee25-d45ab9a90b26"
      },
      "execution_count": null,
      "outputs": [
        {
          "output_type": "execute_result",
          "data": {
            "application/vnd.google.colaboratory.intrinsic+json": {
              "type": "string"
            },
            "text/plain": [
              "'alideliveli'"
            ]
          },
          "metadata": {},
          "execution_count": 10
        }
      ]
    },
    {
      "cell_type": "code",
      "source": [
        "def isValid(s) :\n",
        "  while \"()\" in s or \"[]\" in s or \"{}\" in s :\n",
        "    s = s.replace(\"()\", \"\").replace(\"[]\", \"\").replace(\"{}\", \"\")\n",
        "  return s == \"\""
      ],
      "metadata": {
        "id": "mmMsvFjQlE-P"
      },
      "execution_count": null,
      "outputs": []
    },
    {
      "cell_type": "code",
      "source": [
        "isValid(x)"
      ],
      "metadata": {
        "colab": {
          "base_uri": "https://localhost:8080/"
        },
        "id": "3Rws0vHFlE7I",
        "outputId": "bc3c4a5f-bf0a-463b-c7b7-fbc40b35a7a6"
      },
      "execution_count": null,
      "outputs": [
        {
          "output_type": "execute_result",
          "data": {
            "text/plain": [
              "False"
            ]
          },
          "metadata": {},
          "execution_count": 16
        }
      ]
    },
    {
      "cell_type": "markdown",
      "source": [
        "Building a Calculator using *dict* with *lambda* Expression"
      ],
      "metadata": {
        "id": "j0C8oSxCq9U7"
      }
    },
    {
      "cell_type": "code",
      "source": [
        "(lambda x, y : x + y)(4, 5)"
      ],
      "metadata": {
        "colab": {
          "base_uri": "https://localhost:8080/"
        },
        "id": "zXMkIYNToEEj",
        "outputId": "617aae1d-f519-41c8-bffc-2724d3f1f469"
      },
      "execution_count": null,
      "outputs": [
        {
          "output_type": "execute_result",
          "data": {
            "text/plain": [
              "9"
            ]
          },
          "metadata": {},
          "execution_count": 17
        }
      ]
    },
    {
      "cell_type": "code",
      "source": [
        "bir_dikşinıri = {\"ne_diyorum\" : \"sesimi_duy\",\n",
        "                \"neden\" : [\"bilmiyorum\"]}"
      ],
      "metadata": {
        "id": "uRwScb1noEA4"
      },
      "execution_count": null,
      "outputs": []
    },
    {
      "cell_type": "code",
      "source": [
        "bir_dikşinıri[\"neden\"]"
      ],
      "metadata": {
        "colab": {
          "base_uri": "https://localhost:8080/"
        },
        "id": "IZXuFHn9oD82",
        "outputId": "511bf99b-28ef-4e2e-935d-d8c1f3c4e280"
      },
      "execution_count": null,
      "outputs": [
        {
          "output_type": "execute_result",
          "data": {
            "text/plain": [
              "['bilmiyorum']"
            ]
          },
          "metadata": {},
          "execution_count": 19
        }
      ]
    },
    {
      "cell_type": "code",
      "source": [
        "calculator = {\"+\" : (lambda x, y : x + y),\n",
        "              \"-\" : (lambda x, y : x - y),\n",
        "              \"*\" : (lambda x, y : x * y),\n",
        "              \"/\" : (lambda x, y : x / y)}"
      ],
      "metadata": {
        "id": "zMMMYpMmoD53"
      },
      "execution_count": null,
      "outputs": []
    },
    {
      "cell_type": "code",
      "source": [
        "calculator[\"+\"]"
      ],
      "metadata": {
        "colab": {
          "base_uri": "https://localhost:8080/"
        },
        "id": "EGsC6Tk2oD3R",
        "outputId": "4a4dc522-cdad-47c2-f763-4a89b65e2d88"
      },
      "execution_count": null,
      "outputs": [
        {
          "output_type": "execute_result",
          "data": {
            "text/plain": [
              "<function __main__.<lambda>>"
            ]
          },
          "metadata": {},
          "execution_count": 21
        }
      ]
    },
    {
      "cell_type": "code",
      "source": [
        "calculator[\"+\"](4, 5)"
      ],
      "metadata": {
        "colab": {
          "base_uri": "https://localhost:8080/"
        },
        "id": "AJMGqRfkoDwl",
        "outputId": "5ccd51b2-7764-40c3-96d5-744a3ba97416"
      },
      "execution_count": null,
      "outputs": [
        {
          "output_type": "execute_result",
          "data": {
            "text/plain": [
              "9"
            ]
          },
          "metadata": {},
          "execution_count": 22
        }
      ]
    },
    {
      "cell_type": "code",
      "source": [
        "calculator[\"/\"](20, 2)"
      ],
      "metadata": {
        "colab": {
          "base_uri": "https://localhost:8080/"
        },
        "id": "wHkKhk_NsK6_",
        "outputId": "23f669ea-7c11-448b-9081-c54cf7b05e69"
      },
      "execution_count": null,
      "outputs": [
        {
          "output_type": "execute_result",
          "data": {
            "text/plain": [
              "10.0"
            ]
          },
          "metadata": {},
          "execution_count": 25
        }
      ]
    },
    {
      "cell_type": "code",
      "source": [
        "import random"
      ],
      "metadata": {
        "id": "Do-sUG8ssK3O"
      },
      "execution_count": null,
      "outputs": []
    },
    {
      "cell_type": "code",
      "source": [
        "#AAAaaa111?!      bu şekilde bir şifre üreteceğiz."
      ],
      "metadata": {
        "id": "gsxX0pyasK0k"
      },
      "execution_count": null,
      "outputs": []
    },
    {
      "cell_type": "code",
      "source": [
        "random.randint(10,30)"
      ],
      "metadata": {
        "colab": {
          "base_uri": "https://localhost:8080/"
        },
        "id": "z7rlavtatql3",
        "outputId": "b79da3e1-d01f-4fe1-a45b-b6cec6fa8cc3"
      },
      "execution_count": null,
      "outputs": [
        {
          "output_type": "execute_result",
          "data": {
            "text/plain": [
              "20"
            ]
          },
          "metadata": {},
          "execution_count": 27
        }
      ]
    },
    {
      "cell_type": "code",
      "source": [
        "chr(111)"
      ],
      "metadata": {
        "id": "F-er9IQMtqbN",
        "colab": {
          "base_uri": "https://localhost:8080/",
          "height": 35
        },
        "outputId": "a2dba798-e2de-45d1-a218-a855ec1c9a98"
      },
      "execution_count": 28,
      "outputs": [
        {
          "output_type": "execute_result",
          "data": {
            "application/vnd.google.colaboratory.intrinsic+json": {
              "type": "string"
            },
            "text/plain": [
              "'o'"
            ]
          },
          "metadata": {},
          "execution_count": 28
        }
      ]
    },
    {
      "cell_type": "code",
      "source": [
        "chr(random.randint(65, 90))"
      ],
      "metadata": {
        "colab": {
          "base_uri": "https://localhost:8080/",
          "height": 35
        },
        "id": "wiNL4mC4zImx",
        "outputId": "b4c4ef73-e63d-48dc-a53c-fb8a55f38973"
      },
      "execution_count": 29,
      "outputs": [
        {
          "output_type": "execute_result",
          "data": {
            "application/vnd.google.colaboratory.intrinsic+json": {
              "type": "string"
            },
            "text/plain": [
              "'R'"
            ]
          },
          "metadata": {},
          "execution_count": 29
        }
      ]
    },
    {
      "cell_type": "code",
      "source": [
        "chr(random.randint(48, 57))"
      ],
      "metadata": {
        "colab": {
          "base_uri": "https://localhost:8080/",
          "height": 35
        },
        "id": "VxTBkTTlzIf8",
        "outputId": "8d9458b8-743b-4c36-e134-d57362e882a7"
      },
      "execution_count": 32,
      "outputs": [
        {
          "output_type": "execute_result",
          "data": {
            "application/vnd.google.colaboratory.intrinsic+json": {
              "type": "string"
            },
            "text/plain": [
              "'0'"
            ]
          },
          "metadata": {},
          "execution_count": 32
        }
      ]
    },
    {
      "cell_type": "code",
      "source": [
        "chr(random.randint(97, 122))"
      ],
      "metadata": {
        "colab": {
          "base_uri": "https://localhost:8080/",
          "height": 35
        },
        "id": "bFcZlO6gzIcX",
        "outputId": "6af78973-9d6c-4f76-fff2-18a50f3f3d21"
      },
      "execution_count": 35,
      "outputs": [
        {
          "output_type": "execute_result",
          "data": {
            "application/vnd.google.colaboratory.intrinsic+json": {
              "type": "string"
            },
            "text/plain": [
              "'d'"
            ]
          },
          "metadata": {},
          "execution_count": 35
        }
      ]
    },
    {
      "cell_type": "code",
      "source": [
        "chr(random.randint(33, 47))"
      ],
      "metadata": {
        "colab": {
          "base_uri": "https://localhost:8080/",
          "height": 35
        },
        "id": "MMLVskDUzIZY",
        "outputId": "380d8711-8544-4456-f0c3-62ee516c6b87"
      },
      "execution_count": 30,
      "outputs": [
        {
          "output_type": "execute_result",
          "data": {
            "application/vnd.google.colaboratory.intrinsic+json": {
              "type": "string"
            },
            "text/plain": [
              "'*'"
            ]
          },
          "metadata": {},
          "execution_count": 30
        }
      ]
    },
    {
      "cell_type": "code",
      "source": [
        "chr(random.randint(58, 64))"
      ],
      "metadata": {
        "colab": {
          "base_uri": "https://localhost:8080/",
          "height": 35
        },
        "id": "hi24tXp1zIOD",
        "outputId": "170eb653-5baf-4163-be1d-c4a65e1ae5c5"
      },
      "execution_count": 31,
      "outputs": [
        {
          "output_type": "execute_result",
          "data": {
            "application/vnd.google.colaboratory.intrinsic+json": {
              "type": "string"
            },
            "text/plain": [
              "';'"
            ]
          },
          "metadata": {},
          "execution_count": 31
        }
      ]
    },
    {
      "cell_type": "code",
      "source": [
        "uppers = [chr(random.randint(65, 90)) for i in range(3)]\n",
        "uppers"
      ],
      "metadata": {
        "colab": {
          "base_uri": "https://localhost:8080/"
        },
        "id": "R9ulpL3bzILH",
        "outputId": "77181771-5095-4b25-e888-76654ed1e6cc"
      },
      "execution_count": 46,
      "outputs": [
        {
          "output_type": "execute_result",
          "data": {
            "text/plain": [
              "['V', 'X', 'E']"
            ]
          },
          "metadata": {},
          "execution_count": 46
        }
      ]
    },
    {
      "cell_type": "code",
      "source": [
        "lowers = [chr(random.randint(97, 122)) for i in range(3)]\n",
        "lowers"
      ],
      "metadata": {
        "colab": {
          "base_uri": "https://localhost:8080/"
        },
        "id": "CZjbjwP-zIHN",
        "outputId": "86ea25a3-0b5b-46c5-8931-31eacaa808aa"
      },
      "execution_count": 47,
      "outputs": [
        {
          "output_type": "execute_result",
          "data": {
            "text/plain": [
              "['w', 'a', 'l']"
            ]
          },
          "metadata": {},
          "execution_count": 47
        }
      ]
    },
    {
      "cell_type": "code",
      "source": [
        "numbers = [chr(random.randint(48, 57)) for i in range(3)]\n",
        "numbers"
      ],
      "metadata": {
        "colab": {
          "base_uri": "https://localhost:8080/"
        },
        "id": "Rg-iS0ldzIAn",
        "outputId": "c157fa51-7162-4301-bc98-420811e94a70"
      },
      "execution_count": 48,
      "outputs": [
        {
          "output_type": "execute_result",
          "data": {
            "text/plain": [
              "['8', '0', '6']"
            ]
          },
          "metadata": {},
          "execution_count": 48
        }
      ]
    },
    {
      "cell_type": "code",
      "source": [
        "chars = chr(random.randint(33, 47)) + chr(random.randint(58, 64))\n",
        "chars"
      ],
      "metadata": {
        "colab": {
          "base_uri": "https://localhost:8080/",
          "height": 35
        },
        "id": "r-Lpyrqu0AAX",
        "outputId": "8a7b1462-5f83-4ef9-e712-34981a8098df"
      },
      "execution_count": 56,
      "outputs": [
        {
          "output_type": "execute_result",
          "data": {
            "application/vnd.google.colaboratory.intrinsic+json": {
              "type": "string"
            },
            "text/plain": [
              "'->'"
            ]
          },
          "metadata": {},
          "execution_count": 56
        }
      ]
    },
    {
      "cell_type": "code",
      "source": [
        "\"\".join(numbers)"
      ],
      "metadata": {
        "colab": {
          "base_uri": "https://localhost:8080/",
          "height": 35
        },
        "id": "Mt4iwc4oz_98",
        "outputId": "4640f80d-c6d1-40a6-cf06-3f8908217d3b"
      },
      "execution_count": 42,
      "outputs": [
        {
          "output_type": "execute_result",
          "data": {
            "application/vnd.google.colaboratory.intrinsic+json": {
              "type": "string"
            },
            "text/plain": [
              "'764'"
            ]
          },
          "metadata": {},
          "execution_count": 42
        }
      ]
    },
    {
      "cell_type": "code",
      "source": [
        "passw = \"\".join(uppers) + \"\".join(lowers) + \"\".join(numbers) + \"\".join(chars)\n",
        "passw"
      ],
      "metadata": {
        "colab": {
          "base_uri": "https://localhost:8080/",
          "height": 35
        },
        "id": "vimA-qhLz_7f",
        "outputId": "88522aa9-0f54-4728-9a0b-47d622adf321"
      },
      "execution_count": 69,
      "outputs": [
        {
          "output_type": "execute_result",
          "data": {
            "application/vnd.google.colaboratory.intrinsic+json": {
              "type": "string"
            },
            "text/plain": [
              "'VXEwal806->'"
            ]
          },
          "metadata": {},
          "execution_count": 69
        }
      ]
    },
    {
      "cell_type": "code",
      "source": [
        "ornek = \"alivelideli\""
      ],
      "metadata": {
        "id": "MZi3aWxTz_0p"
      },
      "execution_count": 63,
      "outputs": []
    },
    {
      "cell_type": "code",
      "source": [
        "random.shuffle()"
      ],
      "metadata": {
        "id": "Z7-8qjyKz_vN"
      },
      "execution_count": null,
      "outputs": []
    },
    {
      "cell_type": "code",
      "source": [
        "ornek_list = list(ornek)"
      ],
      "metadata": {
        "id": "oV05abxTz_qq"
      },
      "execution_count": 65,
      "outputs": []
    },
    {
      "cell_type": "code",
      "source": [
        "random.shuffle(ornek_list)"
      ],
      "metadata": {
        "id": "7MqyZeEP2yJC"
      },
      "execution_count": 66,
      "outputs": []
    },
    {
      "cell_type": "code",
      "source": [
        "ornek_list"
      ],
      "metadata": {
        "colab": {
          "base_uri": "https://localhost:8080/"
        },
        "id": "cAo0doK92yFm",
        "outputId": "d3107cc5-e9ec-412a-b42e-013ad2bae312"
      },
      "execution_count": 67,
      "outputs": [
        {
          "output_type": "execute_result",
          "data": {
            "text/plain": [
              "['e', 'a', 'i', 'l', 'i', 'd', 'l', 'e', 'v', 'l', 'i']"
            ]
          },
          "metadata": {},
          "execution_count": 67
        }
      ]
    },
    {
      "cell_type": "code",
      "source": [
        "\"\".join(ornek_list)"
      ],
      "metadata": {
        "colab": {
          "base_uri": "https://localhost:8080/",
          "height": 35
        },
        "id": "B1RCutHf2yCv",
        "outputId": "49522dda-72c0-4138-e35b-554c0db337d4"
      },
      "execution_count": 68,
      "outputs": [
        {
          "output_type": "execute_result",
          "data": {
            "application/vnd.google.colaboratory.intrinsic+json": {
              "type": "string"
            },
            "text/plain": [
              "'eailidlevli'"
            ]
          },
          "metadata": {},
          "execution_count": 68
        }
      ]
    },
    {
      "cell_type": "code",
      "source": [
        "def karıştır(password) :\n",
        "  templist = list(password)\n",
        "  random.shuffle(templist)\n",
        "  return \"\".join(templist)"
      ],
      "metadata": {
        "id": "-bMOOx7B2x_i"
      },
      "execution_count": 74,
      "outputs": []
    },
    {
      "cell_type": "code",
      "source": [
        "passw = karıştır(passw)\n",
        "passw"
      ],
      "metadata": {
        "colab": {
          "base_uri": "https://localhost:8080/",
          "height": 35
        },
        "id": "ehuH_hdg2x7k",
        "outputId": "5fe79edb-fcc3-4d8e-daf1-7ce05718a23b"
      },
      "execution_count": 78,
      "outputs": [
        {
          "output_type": "execute_result",
          "data": {
            "application/vnd.google.colaboratory.intrinsic+json": {
              "type": "string"
            },
            "text/plain": [
              "'a-0V6Xw8El>'"
            ]
          },
          "metadata": {},
          "execution_count": 78
        }
      ]
    },
    {
      "cell_type": "markdown",
      "source": [
        ":alert: random modülünün fonksiyon örnekleri:\n",
        "random()\n",
        "Bu bize 0 <= n < 1.0 aralığında bir sayı döner\n",
        "uniform(min,max)\n",
        "Bu bize min + (max — min) * random() işlemi sonucunda float bir sayı döner.\n",
        "randint(min,max)\n",
        "Min ve max aralığında integer olan bir sayı döner. Max dahildir. min <= n <= max\n",
        "randrange(min,max)\n",
        "Min ve max aralığında max dahil olmayan bir sayı döner. min <= n < max\n",
        "sample(liste,q)\n",
        "Liste içinde q adet rastgele değeri döner.\n",
        "shuffle(list)\n",
        "Verdiğiniz bir liste içindeki değerlerin sırasını karıştırır.\n",
        "choice(list)\n",
        "Verdiğiniz bir liste içinden rastgele bir değer seçer."
      ],
      "metadata": {
        "id": "V_1DFppR5-m8"
      }
    },
    {
      "cell_type": "code",
      "source": [
        "from timeit import timeit"
      ],
      "metadata": {
        "id": "qqW8wQLE2x1j"
      },
      "execution_count": 79,
      "outputs": []
    },
    {
      "cell_type": "code",
      "source": [
        "def for_loop() :\n",
        "\n",
        "  result = []\n",
        "\n",
        "  for i in range(1000000) :\n",
        "    result.append(i)\n",
        "  return result"
      ],
      "metadata": {
        "id": "9MHl2M3m2xxc"
      },
      "execution_count": 81,
      "outputs": []
    },
    {
      "cell_type": "code",
      "source": [
        "#list comprehension ile\n",
        "def list_comp() :\n",
        "  return [i for i in range(1000000)]"
      ],
      "metadata": {
        "id": "bnnpyG8F5s34"
      },
      "execution_count": 82,
      "outputs": []
    },
    {
      "cell_type": "code",
      "source": [
        "#size = 100\n",
        "time_for = timeit(for_loop, number = size)\n",
        "time_list_comp = timeit(list_comp, number = size)"
      ],
      "metadata": {
        "id": "eAnbzlZZ5szM"
      },
      "execution_count": 88,
      "outputs": []
    },
    {
      "cell_type": "code",
      "source": [
        "print(f\"List Comp. is {round(time_for/time_list_comp, 2)}, times faster than for loops.\")"
      ],
      "metadata": {
        "colab": {
          "base_uri": "https://localhost:8080/"
        },
        "id": "2KzdDEzx5swA",
        "outputId": "96026359-3172-49d4-b511-6c68c85b7d44"
      },
      "execution_count": 87,
      "outputs": [
        {
          "output_type": "stream",
          "name": "stdout",
          "text": [
            "List Comp. is 1.75, times faster than for loops.\n"
          ]
        }
      ]
    },
    {
      "cell_type": "code",
      "source": [
        ""
      ],
      "metadata": {
        "id": "q4s2baQd5ss4"
      },
      "execution_count": null,
      "outputs": []
    },
    {
      "cell_type": "code",
      "source": [
        ""
      ],
      "metadata": {
        "id": "4ygYeZxW5seu"
      },
      "execution_count": null,
      "outputs": []
    }
  ]
}