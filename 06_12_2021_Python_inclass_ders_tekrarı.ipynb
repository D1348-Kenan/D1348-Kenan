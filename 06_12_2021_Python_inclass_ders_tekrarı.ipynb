{
  "nbformat": 4,
  "nbformat_minor": 0,
  "metadata": {
    "colab": {
      "name": "06.12.2021 Python inclass ders tekrarı.ipynb",
      "provenance": [],
      "collapsed_sections": [],
      "authorship_tag": "ABX9TyOthmYe8D6t68ICVISud4Cw",
      "include_colab_link": true
    },
    "kernelspec": {
      "name": "python3",
      "display_name": "Python 3"
    },
    "language_info": {
      "name": "python"
    }
  },
  "cells": [
    {
      "cell_type": "markdown",
      "metadata": {
        "id": "view-in-github",
        "colab_type": "text"
      },
      "source": [
        "<a href=\"https://colab.research.google.com/github/D1348-Kenan/D1348-Kenan/blob/main/06_12_2021_Python_inclass_ders_tekrar%C4%B1.ipynb\" target=\"_parent\"><img src=\"https://colab.research.google.com/assets/colab-badge.svg\" alt=\"Open In Colab\"/></a>"
      ]
    },
    {
      "cell_type": "markdown",
      "metadata": {
        "id": "5CZOf_dvX89B"
      },
      "source": [
        "# **Value error**\n",
        "\n"
      ]
    },
    {
      "cell_type": "code",
      "metadata": {
        "id": "Itd27CWcLAyq"
      },
      "source": [
        "import math"
      ],
      "execution_count": null,
      "outputs": []
    },
    {
      "cell_type": "code",
      "metadata": {
        "colab": {
          "base_uri": "https://localhost:8080/"
        },
        "id": "1Y8rmk48Wmbv",
        "outputId": "5e5a1e2e-9124-4174-d675-177f57ce26c4"
      },
      "source": [
        "math.sqrt(25)"
      ],
      "execution_count": null,
      "outputs": [
        {
          "output_type": "execute_result",
          "data": {
            "text/plain": [
              "5.0"
            ]
          },
          "metadata": {},
          "execution_count": 2
        }
      ]
    },
    {
      "cell_type": "code",
      "metadata": {
        "colab": {
          "base_uri": "https://localhost:8080/",
          "height": 166
        },
        "id": "Ktp6Lai3WnAE",
        "outputId": "57fe7508-f386-43b7-b7cf-989b1100d2e9"
      },
      "source": [
        "math.sqrt(-25)"
      ],
      "execution_count": null,
      "outputs": [
        {
          "output_type": "error",
          "ename": "ValueError",
          "evalue": "ignored",
          "traceback": [
            "\u001b[0;31m---------------------------------------------------------------------------\u001b[0m",
            "\u001b[0;31mValueError\u001b[0m                                Traceback (most recent call last)",
            "\u001b[0;32m<ipython-input-3-d80dea1ee982>\u001b[0m in \u001b[0;36m<module>\u001b[0;34m()\u001b[0m\n\u001b[0;32m----> 1\u001b[0;31m \u001b[0mmath\u001b[0m\u001b[0;34m.\u001b[0m\u001b[0msqrt\u001b[0m\u001b[0;34m(\u001b[0m\u001b[0;34m-\u001b[0m\u001b[0;36m25\u001b[0m\u001b[0;34m)\u001b[0m\u001b[0;34m\u001b[0m\u001b[0;34m\u001b[0m\u001b[0m\n\u001b[0m",
            "\u001b[0;31mValueError\u001b[0m: math domain error"
          ]
        }
      ]
    },
    {
      "cell_type": "code",
      "metadata": {
        "colab": {
          "base_uri": "https://localhost:8080/"
        },
        "id": "NvkEbhtKWnTu",
        "outputId": "c34b8d26-f69e-4ee2-f657-4ee9e3238038"
      },
      "source": [
        "math.factorial(4)"
      ],
      "execution_count": null,
      "outputs": [
        {
          "output_type": "execute_result",
          "data": {
            "text/plain": [
              "24"
            ]
          },
          "metadata": {},
          "execution_count": 4
        }
      ]
    },
    {
      "cell_type": "code",
      "metadata": {
        "colab": {
          "base_uri": "https://localhost:8080/",
          "height": 166
        },
        "id": "PgJ3LaUzXQBk",
        "outputId": "0cc132b4-7b5f-4bc0-c7f1-7bd9a2b2fd32"
      },
      "source": [
        "math.factorial(-4)"
      ],
      "execution_count": null,
      "outputs": [
        {
          "output_type": "error",
          "ename": "ValueError",
          "evalue": "ignored",
          "traceback": [
            "\u001b[0;31m---------------------------------------------------------------------------\u001b[0m",
            "\u001b[0;31mValueError\u001b[0m                                Traceback (most recent call last)",
            "\u001b[0;32m<ipython-input-5-001ef41ec39f>\u001b[0m in \u001b[0;36m<module>\u001b[0;34m()\u001b[0m\n\u001b[0;32m----> 1\u001b[0;31m \u001b[0mmath\u001b[0m\u001b[0;34m.\u001b[0m\u001b[0mfactorial\u001b[0m\u001b[0;34m(\u001b[0m\u001b[0;34m-\u001b[0m\u001b[0;36m4\u001b[0m\u001b[0;34m)\u001b[0m\u001b[0;34m\u001b[0m\u001b[0;34m\u001b[0m\u001b[0m\n\u001b[0m",
            "\u001b[0;31mValueError\u001b[0m: factorial() not defined for negative values"
          ]
        }
      ]
    },
    {
      "cell_type": "code",
      "metadata": {
        "colab": {
          "base_uri": "https://localhost:8080/"
        },
        "id": "4ymJxH7tXPr1",
        "outputId": "21cf69fd-c1fe-486d-809a-44fb5e0f7296"
      },
      "source": [
        "math.log10(100)"
      ],
      "execution_count": null,
      "outputs": [
        {
          "output_type": "execute_result",
          "data": {
            "text/plain": [
              "2.0"
            ]
          },
          "metadata": {},
          "execution_count": 6
        }
      ]
    },
    {
      "cell_type": "code",
      "metadata": {
        "colab": {
          "base_uri": "https://localhost:8080/",
          "height": 166
        },
        "id": "uwV1CQ1rXPXO",
        "outputId": "aa196a3e-be61-486e-fa27-8aeb1b5ce3b3"
      },
      "source": [
        "math.log10(-100)"
      ],
      "execution_count": null,
      "outputs": [
        {
          "output_type": "error",
          "ename": "ValueError",
          "evalue": "ignored",
          "traceback": [
            "\u001b[0;31m---------------------------------------------------------------------------\u001b[0m",
            "\u001b[0;31mValueError\u001b[0m                                Traceback (most recent call last)",
            "\u001b[0;32m<ipython-input-7-a9ce091d703f>\u001b[0m in \u001b[0;36m<module>\u001b[0;34m()\u001b[0m\n\u001b[0;32m----> 1\u001b[0;31m \u001b[0mmath\u001b[0m\u001b[0;34m.\u001b[0m\u001b[0mlog10\u001b[0m\u001b[0;34m(\u001b[0m\u001b[0;34m-\u001b[0m\u001b[0;36m100\u001b[0m\u001b[0;34m)\u001b[0m\u001b[0;34m\u001b[0m\u001b[0;34m\u001b[0m\u001b[0m\n\u001b[0m",
            "\u001b[0;31mValueError\u001b[0m: math domain error"
          ]
        }
      ]
    },
    {
      "cell_type": "markdown",
      "metadata": {
        "id": "PnEm1PXRZcLe"
      },
      "source": [
        "Recursive fonksiyonla faktöriyel hesaplama"
      ]
    },
    {
      "cell_type": "code",
      "metadata": {
        "id": "tdj1uLVpXO-A"
      },
      "source": [
        "def my_facto(n) :\n",
        "  if n == 1 or n == 0 :\n",
        "    return 1\n",
        "  \n",
        "  else :\n",
        "    return n * my_facto(n-1)"
      ],
      "execution_count": 1,
      "outputs": []
    },
    {
      "cell_type": "code",
      "metadata": {
        "id": "baihN7m5XOkz",
        "colab": {
          "base_uri": "https://localhost:8080/"
        },
        "outputId": "399ce9e3-c3e7-4df5-97ae-605b6a68ecb5"
      },
      "source": [
        "my_facto(4)"
      ],
      "execution_count": 2,
      "outputs": [
        {
          "output_type": "execute_result",
          "data": {
            "text/plain": [
              "24"
            ]
          },
          "metadata": {},
          "execution_count": 2
        }
      ]
    },
    {
      "cell_type": "code",
      "metadata": {
        "id": "snbR6j1GXecy",
        "colab": {
          "base_uri": "https://localhost:8080/"
        },
        "outputId": "8173a446-7900-4f39-df29-16a6a8d4c56b"
      },
      "source": [
        "my_facto(9)"
      ],
      "execution_count": 10,
      "outputs": [
        {
          "output_type": "execute_result",
          "data": {
            "text/plain": [
              "362880"
            ]
          },
          "metadata": {},
          "execution_count": 10
        }
      ]
    },
    {
      "cell_type": "markdown",
      "source": [
        "Name error"
      ],
      "metadata": {
        "id": "70wf370LrPGp"
      }
    },
    {
      "cell_type": "code",
      "metadata": {
        "id": "ISvnQ-RMXeRw",
        "colab": {
          "base_uri": "https://localhost:8080/",
          "height": 201
        },
        "outputId": "4f2ecdb5-30d8-4584-a363-820a1a2e805d"
      },
      "source": [
        "def multiply(x,y):\n",
        "  return(x*y)\n",
        "\n",
        "multoply(2,3)"
      ],
      "execution_count": 11,
      "outputs": [
        {
          "output_type": "error",
          "ename": "NameError",
          "evalue": "ignored",
          "traceback": [
            "\u001b[0;31m---------------------------------------------------------------------------\u001b[0m",
            "\u001b[0;31mNameError\u001b[0m                                 Traceback (most recent call last)",
            "\u001b[0;32m<ipython-input-11-ae95e09fb837>\u001b[0m in \u001b[0;36m<module>\u001b[0;34m()\u001b[0m\n\u001b[1;32m      2\u001b[0m   \u001b[0;32mreturn\u001b[0m\u001b[0;34m(\u001b[0m\u001b[0mx\u001b[0m\u001b[0;34m*\u001b[0m\u001b[0my\u001b[0m\u001b[0;34m)\u001b[0m\u001b[0;34m\u001b[0m\u001b[0;34m\u001b[0m\u001b[0m\n\u001b[1;32m      3\u001b[0m \u001b[0;34m\u001b[0m\u001b[0m\n\u001b[0;32m----> 4\u001b[0;31m \u001b[0mmultoply\u001b[0m\u001b[0;34m(\u001b[0m\u001b[0;36m2\u001b[0m\u001b[0;34m,\u001b[0m\u001b[0;36m3\u001b[0m\u001b[0;34m)\u001b[0m\u001b[0;34m\u001b[0m\u001b[0;34m\u001b[0m\u001b[0m\n\u001b[0m",
            "\u001b[0;31mNameError\u001b[0m: name 'multoply' is not defined"
          ]
        }
      ]
    },
    {
      "cell_type": "markdown",
      "source": [
        "# **Exception handling**"
      ],
      "metadata": {
        "id": "BPD7ZAoCuZc9"
      }
    },
    {
      "cell_type": "code",
      "metadata": {
        "id": "cH1b8w9DXeAg",
        "colab": {
          "base_uri": "https://localhost:8080/"
        },
        "outputId": "d291cc01-6cdd-4598-96c8-684df1bc99d0"
      },
      "source": [
        "while True:\n",
        "  no_one = int(input(\"The first number please : \"))\n",
        "  no_two = int(input(\"The second number please : \"))\n",
        "  division = no_one / no_two\n",
        "  print(\"The result of the division is : \", division)\n",
        "  break"
      ],
      "execution_count": 24,
      "outputs": [
        {
          "output_type": "stream",
          "name": "stdout",
          "text": [
            "The first number please : 4\n",
            "The second number please : 3\n",
            "The result of the division is :  1.3333333333333333\n"
          ]
        }
      ]
    },
    {
      "cell_type": "code",
      "metadata": {
        "id": "Ue1IbB1tXdtp",
        "colab": {
          "base_uri": "https://localhost:8080/",
          "height": 270
        },
        "outputId": "5ed5b6e8-5da2-47b9-c97f-e6742854f0e5"
      },
      "source": [
        "while True:\n",
        "  no_one = int(input(\"The first number please : \"))\n",
        "  no_two = int(input(\"The second number please : \"))\n",
        "  division = no_one / no_two\n",
        "  print(\"The result of the division is : \", division)\n",
        "  break"
      ],
      "execution_count": 25,
      "outputs": [
        {
          "name": "stdout",
          "output_type": "stream",
          "text": [
            "The first number please : 7\n",
            "The second number please : 0\n"
          ]
        },
        {
          "output_type": "error",
          "ename": "ZeroDivisionError",
          "evalue": "ignored",
          "traceback": [
            "\u001b[0;31m---------------------------------------------------------------------------\u001b[0m",
            "\u001b[0;31mZeroDivisionError\u001b[0m                         Traceback (most recent call last)",
            "\u001b[0;32m<ipython-input-25-c737de354091>\u001b[0m in \u001b[0;36m<module>\u001b[0;34m()\u001b[0m\n\u001b[1;32m      2\u001b[0m   \u001b[0mno_one\u001b[0m \u001b[0;34m=\u001b[0m \u001b[0mint\u001b[0m\u001b[0;34m(\u001b[0m\u001b[0minput\u001b[0m\u001b[0;34m(\u001b[0m\u001b[0;34m\"The first number please : \"\u001b[0m\u001b[0;34m)\u001b[0m\u001b[0;34m)\u001b[0m\u001b[0;34m\u001b[0m\u001b[0;34m\u001b[0m\u001b[0m\n\u001b[1;32m      3\u001b[0m   \u001b[0mno_two\u001b[0m \u001b[0;34m=\u001b[0m \u001b[0mint\u001b[0m\u001b[0;34m(\u001b[0m\u001b[0minput\u001b[0m\u001b[0;34m(\u001b[0m\u001b[0;34m\"The second number please : \"\u001b[0m\u001b[0;34m)\u001b[0m\u001b[0;34m)\u001b[0m\u001b[0;34m\u001b[0m\u001b[0;34m\u001b[0m\u001b[0m\n\u001b[0;32m----> 4\u001b[0;31m   \u001b[0mdivision\u001b[0m \u001b[0;34m=\u001b[0m \u001b[0mno_one\u001b[0m \u001b[0;34m/\u001b[0m \u001b[0mno_two\u001b[0m\u001b[0;34m\u001b[0m\u001b[0;34m\u001b[0m\u001b[0m\n\u001b[0m\u001b[1;32m      5\u001b[0m   \u001b[0mprint\u001b[0m\u001b[0;34m(\u001b[0m\u001b[0;34m\"The result of the division is : \"\u001b[0m\u001b[0;34m,\u001b[0m \u001b[0mdivision\u001b[0m\u001b[0;34m)\u001b[0m\u001b[0;34m\u001b[0m\u001b[0;34m\u001b[0m\u001b[0m\n\u001b[1;32m      6\u001b[0m   \u001b[0;32mbreak\u001b[0m\u001b[0;34m\u001b[0m\u001b[0;34m\u001b[0m\u001b[0m\n",
            "\u001b[0;31mZeroDivisionError\u001b[0m: division by zero"
          ]
        }
      ]
    },
    {
      "cell_type": "code",
      "source": [
        "while True:\n",
        "  no_one = int(input(\"The first number please : \"))\n",
        "  no_two = int(input(\"The second number please : \"))\n",
        "  try :\n",
        "    division = no_one / no_two\n",
        "    print(\"The result of the division is : \", division)\n",
        "    break\n",
        "  except :\n",
        "    print(\"Something is wrong. enter again\")"
      ],
      "metadata": {
        "colab": {
          "base_uri": "https://localhost:8080/"
        },
        "id": "HWSpPWFLssRo",
        "outputId": "47d9fa9d-3c11-4585-d86d-fc3ebed3066d"
      },
      "execution_count": 26,
      "outputs": [
        {
          "output_type": "stream",
          "name": "stdout",
          "text": [
            "The first number please : 7\n",
            "The second number please : 0\n",
            "Something is wrong. enter again\n",
            "The first number please : 5\n",
            "The second number please : 3\n",
            "The result of the division is :  1.6666666666666667\n"
          ]
        }
      ]
    },
    {
      "cell_type": "code",
      "source": [
        "while True:\n",
        "  no_one = int(input(\"The first number please : \"))\n",
        "  no_two = int(input(\"The second number please : \"))\n",
        "  try :\n",
        "    division = no_one / no_two\n",
        "    print(\"The result of the division is : \", division)\n",
        "    break\n",
        "  except :\n",
        "    print(\"Something is wrong. enter again\")"
      ],
      "metadata": {
        "colab": {
          "base_uri": "https://localhost:8080/",
          "height": 270
        },
        "id": "n2a7u9OvssK7",
        "outputId": "ae3f48b1-c6b8-45ec-da1f-f7b7f84e4c27"
      },
      "execution_count": 27,
      "outputs": [
        {
          "name": "stdout",
          "output_type": "stream",
          "text": [
            "The first number please : 5\n",
            "The second number please : t\n"
          ]
        },
        {
          "output_type": "error",
          "ename": "ValueError",
          "evalue": "ignored",
          "traceback": [
            "\u001b[0;31m---------------------------------------------------------------------------\u001b[0m",
            "\u001b[0;31mValueError\u001b[0m                                Traceback (most recent call last)",
            "\u001b[0;32m<ipython-input-27-25e1dd6e8ff7>\u001b[0m in \u001b[0;36m<module>\u001b[0;34m()\u001b[0m\n\u001b[1;32m      1\u001b[0m \u001b[0;32mwhile\u001b[0m \u001b[0;32mTrue\u001b[0m\u001b[0;34m:\u001b[0m\u001b[0;34m\u001b[0m\u001b[0;34m\u001b[0m\u001b[0m\n\u001b[1;32m      2\u001b[0m   \u001b[0mno_one\u001b[0m \u001b[0;34m=\u001b[0m \u001b[0mint\u001b[0m\u001b[0;34m(\u001b[0m\u001b[0minput\u001b[0m\u001b[0;34m(\u001b[0m\u001b[0;34m\"The first number please : \"\u001b[0m\u001b[0;34m)\u001b[0m\u001b[0;34m)\u001b[0m\u001b[0;34m\u001b[0m\u001b[0;34m\u001b[0m\u001b[0m\n\u001b[0;32m----> 3\u001b[0;31m   \u001b[0mno_two\u001b[0m \u001b[0;34m=\u001b[0m \u001b[0mint\u001b[0m\u001b[0;34m(\u001b[0m\u001b[0minput\u001b[0m\u001b[0;34m(\u001b[0m\u001b[0;34m\"The second number please : \"\u001b[0m\u001b[0;34m)\u001b[0m\u001b[0;34m)\u001b[0m\u001b[0;34m\u001b[0m\u001b[0;34m\u001b[0m\u001b[0m\n\u001b[0m\u001b[1;32m      4\u001b[0m   \u001b[0;32mtry\u001b[0m \u001b[0;34m:\u001b[0m\u001b[0;34m\u001b[0m\u001b[0;34m\u001b[0m\u001b[0m\n\u001b[1;32m      5\u001b[0m     \u001b[0mdivision\u001b[0m \u001b[0;34m=\u001b[0m \u001b[0mno_one\u001b[0m \u001b[0;34m/\u001b[0m \u001b[0mno_two\u001b[0m\u001b[0;34m\u001b[0m\u001b[0;34m\u001b[0m\u001b[0m\n",
            "\u001b[0;31mValueError\u001b[0m: invalid literal for int() with base 10: 't'"
          ]
        }
      ]
    },
    {
      "cell_type": "markdown",
      "source": [
        "Exception ı specify etme"
      ],
      "metadata": {
        "id": "ETk4s90x8Mry"
      }
    },
    {
      "cell_type": "code",
      "source": [
        "while True:\n",
        "  no_one = int(input(\"The first number please : \"))\n",
        "  no_two = int(input(\"The second number please : \"))\n",
        "  try :\n",
        "    division = no_one / no_two\n",
        "    print(\"The result of the division is : \", division)\n",
        "    break\n",
        "  except ZeroDivisionError:\n",
        "    print(\"You tried to divide by zero. enter again and don't use zero.\")"
      ],
      "metadata": {
        "colab": {
          "base_uri": "https://localhost:8080/"
        },
        "id": "c_2V8t_UssIG",
        "outputId": "fb1f1b99-52ed-4060-f63f-2944198de13a"
      },
      "execution_count": 29,
      "outputs": [
        {
          "output_type": "stream",
          "name": "stdout",
          "text": [
            "The first number please : 5\n",
            "The second number please : 0\n",
            "You tried to divide by zero. enter again and don't use zero.\n",
            "The first number please : 6\n",
            "The second number please : 6\n",
            "The result of the division is :  1.0\n"
          ]
        }
      ]
    },
    {
      "cell_type": "code",
      "source": [
        "try :\n",
        "  print(4 + \"4\")\n",
        "\n",
        "except :\n",
        "  print(\"muhtemelen yanlış bir şeyler yaptın!\")"
      ],
      "metadata": {
        "colab": {
          "base_uri": "https://localhost:8080/"
        },
        "id": "u8uSQMfYssFV",
        "outputId": "49b7be12-5e77-4c59-ff8d-fe92e66cb680"
      },
      "execution_count": 31,
      "outputs": [
        {
          "output_type": "stream",
          "name": "stdout",
          "text": [
            "muhtemelen yanlış bir şeyler yaptın!\n"
          ]
        }
      ]
    },
    {
      "cell_type": "code",
      "source": [
        "try :\n",
        "  print(\"4\" + \"4\")\n",
        "\n",
        "except :\n",
        "  print(\"muhtemelen yanlış bir şeyler yaptın!\")\n",
        "\n",
        "#exception yükselmedi burada iki stringi concut yaptı."
      ],
      "metadata": {
        "colab": {
          "base_uri": "https://localhost:8080/"
        },
        "id": "JWjNcprQssB9",
        "outputId": "bf956aec-2813-4b05-b134-96084387997e"
      },
      "execution_count": 32,
      "outputs": [
        {
          "output_type": "stream",
          "name": "stdout",
          "text": [
            "44\n"
          ]
        }
      ]
    },
    {
      "cell_type": "code",
      "source": [
        "file = open(\"my_file.txt\", \"r\")\n",
        "print(file.read())\n",
        "file.close()"
      ],
      "metadata": {
        "colab": {
          "base_uri": "https://localhost:8080/",
          "height": 201
        },
        "id": "FBtKhjp8OFRf",
        "outputId": "a0368122-dc5d-44ff-de42-9b605b1e30d6"
      },
      "execution_count": 36,
      "outputs": [
        {
          "output_type": "error",
          "ename": "FileNotFoundError",
          "evalue": "ignored",
          "traceback": [
            "\u001b[0;31m---------------------------------------------------------------------------\u001b[0m",
            "\u001b[0;31mFileNotFoundError\u001b[0m                         Traceback (most recent call last)",
            "\u001b[0;32m<ipython-input-36-9417f736f55c>\u001b[0m in \u001b[0;36m<module>\u001b[0;34m()\u001b[0m\n\u001b[0;32m----> 1\u001b[0;31m \u001b[0mfile\u001b[0m \u001b[0;34m=\u001b[0m \u001b[0mopen\u001b[0m\u001b[0;34m(\u001b[0m\u001b[0;34m\"my_file.txt\"\u001b[0m\u001b[0;34m,\u001b[0m \u001b[0;34m\"r\"\u001b[0m\u001b[0;34m)\u001b[0m\u001b[0;34m\u001b[0m\u001b[0;34m\u001b[0m\u001b[0m\n\u001b[0m\u001b[1;32m      2\u001b[0m \u001b[0mprint\u001b[0m\u001b[0;34m(\u001b[0m\u001b[0mfile\u001b[0m\u001b[0;34m.\u001b[0m\u001b[0mread\u001b[0m\u001b[0;34m(\u001b[0m\u001b[0;34m)\u001b[0m\u001b[0;34m)\u001b[0m\u001b[0;34m\u001b[0m\u001b[0;34m\u001b[0m\u001b[0m\n\u001b[1;32m      3\u001b[0m \u001b[0mfile\u001b[0m\u001b[0;34m.\u001b[0m\u001b[0mclose\u001b[0m\u001b[0;34m(\u001b[0m\u001b[0;34m)\u001b[0m\u001b[0;34m\u001b[0m\u001b[0;34m\u001b[0m\u001b[0m\n",
            "\u001b[0;31mFileNotFoundError\u001b[0m: [Errno 2] No such file or directory: 'my_file.txt'"
          ]
        }
      ]
    },
    {
      "cell_type": "code",
      "source": [
        "try :\n",
        "  file = open(\"my_file.txt\", \"r\")\n",
        "  print(file.read())\n",
        "  file.close()\n",
        "except FileNotFoundError:\n",
        "  print(\"There is not such a file or the path is incorrect.\")"
      ],
      "metadata": {
        "colab": {
          "base_uri": "https://localhost:8080/"
        },
        "id": "3vIb7LcTsr_S",
        "outputId": "67424c51-d197-4e61-8b25-659e6e110dfe"
      },
      "execution_count": 37,
      "outputs": [
        {
          "output_type": "stream",
          "name": "stdout",
          "text": [
            "There is not such a file or the path is incorrect.\n"
          ]
        }
      ]
    },
    {
      "cell_type": "code",
      "source": [
        "try :\n",
        "  a = 4 + \"4\"\n",
        "  file = open(\"my_file.txt\", \"r\")\n",
        "  print(file.read())\n",
        "  file.close()\n",
        "except FileNotFoundError:\n",
        "  print(\"There is not such a file or the path is incorrect.\")\n",
        "\n",
        "except TypeError:\n",
        "  print(\"The type is incorrect.\")"
      ],
      "metadata": {
        "id": "N2FXhdZ9sr12"
      },
      "execution_count": null,
      "outputs": []
    },
    {
      "cell_type": "markdown",
      "source": [
        "# **Full \"Exception Handling Block\"**"
      ],
      "metadata": {
        "id": "q96us6VYRRqv"
      }
    },
    {
      "cell_type": "code",
      "source": [
        "try :\n",
        "  sonuc = \"4\" + \"5\"\n",
        "  print(\"hello\")\n",
        "\n",
        "except TypeError :\n",
        "  print(\"Type hatası var. Tipi kontrol etsen iyi olur.\")\n",
        "\n",
        "else :\n",
        "  print(\"aaa demek ki. hata yükselmemiş. try içerisinde exception you. super\", sonuc)\n",
        "\n",
        "finally :\n",
        "  print(\"En nihayet sıra bana geldi. Önünde sonunda çalışırım arkadaş.\")"
      ],
      "metadata": {
        "colab": {
          "base_uri": "https://localhost:8080/"
        },
        "id": "X26BDMaZQiwd",
        "outputId": "28448587-3eb2-4180-c981-c747947232df"
      },
      "execution_count": 40,
      "outputs": [
        {
          "output_type": "stream",
          "name": "stdout",
          "text": [
            "hello\n",
            "aaa demek ki. hata yükselmemiş. try içerisinde exception you. super 45\n",
            "En nihayet sıra bana geldi. Önünde sonunda çalışırım arkadaş.\n"
          ]
        }
      ]
    },
    {
      "cell_type": "markdown",
      "source": [
        "##koda hata verdirelim. 4 ü integer yapalım."
      ],
      "metadata": {
        "id": "KSvdutzwSkNj"
      }
    },
    {
      "cell_type": "code",
      "source": [
        "try :\n",
        "  sonuc = 4 + \"5\"\n",
        "  print(\"hello\")\n",
        "\n",
        "except TypeError :\n",
        "  print(\"Type hatası var. Tipi kontrol etsen iyi olur.\")\n",
        "\n",
        "else :\n",
        "  print(\"aaa demek ki. hata yükselmemiş. try içerisinde exception you. super\", sonuc)\n",
        "\n",
        "finally :\n",
        "  print(\"En nihayet sıra bana geldi. Önünde sonunda çalışırım arkadaş.\")"
      ],
      "metadata": {
        "colab": {
          "base_uri": "https://localhost:8080/"
        },
        "id": "QBq5kNbEQirF",
        "outputId": "2dcd81e2-1f2c-4b2c-eaf6-ac30c1f83c4e"
      },
      "execution_count": 41,
      "outputs": [
        {
          "output_type": "stream",
          "name": "stdout",
          "text": [
            "Type hatası var. Tipi kontrol etsen iyi olur.\n",
            "En nihayet sıra bana geldi. Önünde sonunda çalışırım arkadaş.\n"
          ]
        }
      ]
    },
    {
      "cell_type": "markdown",
      "source": [
        "#exception da hata olan yere kadar çalışır. Hatayı algıladığı yerde durur. except satırına geçer."
      ],
      "metadata": {
        "id": "uzHaCLJnTPPr"
      }
    },
    {
      "cell_type": "code",
      "source": [
        "try :\n",
        "  print(\"HELLO UNIVERSE\")\n",
        "  sonuc = 4 + \"5\"\n",
        "  print(\"hello\")\n",
        "\n",
        "except TypeError :\n",
        "  print(\"Type hatası var. Tipi kontrol etsen iyi olur.\")\n",
        "\n",
        "else :\n",
        "  print(\"aaa demek ki. hata yükselmemiş. try içerisinde exception you. super\", sonuc)\n",
        "\n",
        "finally :\n",
        "  print(\"En nihayet sıra bana geldi. Önünde sonunda çalışırım arkadaş.\") #finally her halükarda çalışır."
      ],
      "metadata": {
        "colab": {
          "base_uri": "https://localhost:8080/"
        },
        "id": "i5tDGsnSQijG",
        "outputId": "f1637963-9963-4623-ddcf-48991906155e"
      },
      "execution_count": 42,
      "outputs": [
        {
          "output_type": "stream",
          "name": "stdout",
          "text": [
            "HELLO UNIVERSE\n",
            "Type hatası var. Tipi kontrol etsen iyi olur.\n",
            "En nihayet sıra bana geldi. Önünde sonunda çalışırım arkadaş.\n"
          ]
        }
      ]
    },
    {
      "cell_type": "markdown",
      "source": [
        "Implementation of the Full \"Exception handling block\""
      ],
      "metadata": {
        "id": "pyjCPAj-VfLx"
      }
    },
    {
      "cell_type": "code",
      "source": [
        "while True:\n",
        "    no_one = int(input(\"The first number please : \"))\n",
        "    no_two = int(input(\"The second number please : \"))\n",
        "    try:\n",
        "        division = no_one / no_two  # normal part of the program\n",
        "    except ZeroDivisionError:\n",
        "        print(\"You can't divide by zero! Try again.\")  # executes when division by zero\n",
        "    else:\n",
        "        print(\"The result of the division is : \", division)  # executes if there is no exception\n",
        "    finally:\n",
        "        print(\"Thanks for using our mini divison calculator! Come again!\")\n",
        "        break  # exits the while loop"
      ],
      "metadata": {
        "colab": {
          "base_uri": "https://localhost:8080/"
        },
        "id": "OpAik_RXUPW5",
        "outputId": "4710a7b9-403b-49b3-eaba-891a23a03d5b"
      },
      "execution_count": 44,
      "outputs": [
        {
          "output_type": "stream",
          "name": "stdout",
          "text": [
            "The first number please : 6\n",
            "The second number please : 6\n",
            "The result of the division is :  1.0\n",
            "Thanks for using our mini divison calculator! Come again!\n"
          ]
        }
      ]
    },
    {
      "cell_type": "markdown",
      "source": [
        "Exception **as**"
      ],
      "metadata": {
        "id": "_b6PmldoV8yi"
      }
    },
    {
      "cell_type": "code",
      "source": [
        "while True:\n",
        "    no_one = int(input(\"The first number please : \"))\n",
        "    no_two = int(input(\"The second number please : \"))\n",
        "    try:\n",
        "        division = no_one / no_two\n",
        "        print(\"The result of the division is : \", division)\n",
        "        break\n",
        "    except Exception as e:\n",
        "        print(\"Something went wrong...Try again.\")\n",
        "        print(\"Probably it is because of '{}' error\".format(e))\n",
        "        break"
      ],
      "metadata": {
        "colab": {
          "base_uri": "https://localhost:8080/"
        },
        "id": "tSCVRWR7UPTP",
        "outputId": "249c88bc-3a10-4f95-b29a-c23ff12e5f6b"
      },
      "execution_count": 45,
      "outputs": [
        {
          "output_type": "stream",
          "name": "stdout",
          "text": [
            "The first number please : 7\n",
            "The second number please : 0\n",
            "Something went wrong...Try again.\n",
            "Probably it is because of 'division by zero' error\n"
          ]
        }
      ]
    },
    {
      "cell_type": "code",
      "source": [
        "try :\n",
        "  4 + \"4\"\n",
        "except Exception as variable :\n",
        "  print(variable)"
      ],
      "metadata": {
        "colab": {
          "base_uri": "https://localhost:8080/"
        },
        "id": "_9X78xdqUPO8",
        "outputId": "ad3290b1-92d4-42ac-f128-9b77f4c56efa"
      },
      "execution_count": 47,
      "outputs": [
        {
          "output_type": "stream",
          "name": "stdout",
          "text": [
            "unsupported operand type(s) for +: 'int' and 'str'\n"
          ]
        }
      ]
    },
    {
      "cell_type": "code",
      "source": [
        "4 + \"4\""
      ],
      "metadata": {
        "colab": {
          "base_uri": "https://localhost:8080/",
          "height": 166
        },
        "id": "Dx26xBEYUPGP",
        "outputId": "93e75f67-7d94-44ef-f4dc-e886645ba28f"
      },
      "execution_count": 48,
      "outputs": [
        {
          "output_type": "error",
          "ename": "TypeError",
          "evalue": "ignored",
          "traceback": [
            "\u001b[0;31m---------------------------------------------------------------------------\u001b[0m",
            "\u001b[0;31mTypeError\u001b[0m                                 Traceback (most recent call last)",
            "\u001b[0;32m<ipython-input-48-f027878f74dd>\u001b[0m in \u001b[0;36m<module>\u001b[0;34m()\u001b[0m\n\u001b[0;32m----> 1\u001b[0;31m \u001b[0;36m4\u001b[0m \u001b[0;34m+\u001b[0m \u001b[0;34m\"4\"\u001b[0m\u001b[0;34m\u001b[0m\u001b[0;34m\u001b[0m\u001b[0m\n\u001b[0m",
            "\u001b[0;31mTypeError\u001b[0m: unsupported operand type(s) for +: 'int' and 'str'"
          ]
        }
      ]
    },
    {
      "cell_type": "code",
      "source": [
        ""
      ],
      "metadata": {
        "id": "L2ctlmmqUO9A"
      },
      "execution_count": null,
      "outputs": []
    },
    {
      "cell_type": "code",
      "source": [
        ""
      ],
      "metadata": {
        "id": "R3mXye5yUO5B"
      },
      "execution_count": null,
      "outputs": []
    },
    {
      "cell_type": "code",
      "source": [
        ""
      ],
      "metadata": {
        "id": "2cGDAHRSUO0S"
      },
      "execution_count": null,
      "outputs": []
    },
    {
      "cell_type": "code",
      "source": [
        ""
      ],
      "metadata": {
        "id": "zLbLaHGnUOtf"
      },
      "execution_count": null,
      "outputs": []
    },
    {
      "cell_type": "code",
      "source": [
        ""
      ],
      "metadata": {
        "id": "jVAikVd3UOfD"
      },
      "execution_count": null,
      "outputs": []
    },
    {
      "cell_type": "code",
      "source": [
        ""
      ],
      "metadata": {
        "id": "AzT3U6f1QibN"
      },
      "execution_count": null,
      "outputs": []
    },
    {
      "cell_type": "code",
      "source": [
        ""
      ],
      "metadata": {
        "id": "npxekj63QiRi"
      },
      "execution_count": null,
      "outputs": []
    }
  ]
}