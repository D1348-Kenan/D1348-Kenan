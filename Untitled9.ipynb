{
  "nbformat": 4,
  "nbformat_minor": 0,
  "metadata": {
    "colab": {
      "name": "Untitled9.ipynb",
      "provenance": [],
      "authorship_tag": "ABX9TyNkk5LR1u594B2mEECJQATl",
      "include_colab_link": true
    },
    "kernelspec": {
      "name": "python3",
      "display_name": "Python 3"
    },
    "language_info": {
      "name": "python"
    }
  },
  "cells": [
    {
      "cell_type": "markdown",
      "metadata": {
        "id": "view-in-github",
        "colab_type": "text"
      },
      "source": [
        "<a href=\"https://colab.research.google.com/github/D1348-Kenan/D1348-Kenan/blob/main/Untitled9.ipynb\" target=\"_parent\"><img src=\"https://colab.research.google.com/assets/colab-badge.svg\" alt=\"Open In Colab\"/></a>"
      ]
    },
    {
      "cell_type": "markdown",
      "metadata": {
        "id": "6K-XobpcB8f2"
      },
      "source": [
        "05.11.2021 Teamwork "
      ]
    },
    {
      "cell_type": "code",
      "metadata": {
        "colab": {
          "base_uri": "https://localhost:8080/"
        },
        "id": "5L82APi78U7s",
        "outputId": "fba0b234-fc40-4a5b-af18-91e9416aa9ee"
      },
      "source": [
        "fruits = (\"apple\", \"banana\", \"cherry\")\n",
        "\n",
        "(green, yellow, red) = fruits\n",
        "\n",
        "print(type(green))\n",
        "print(yellow)\n",
        "print(red)"
      ],
      "execution_count": 4,
      "outputs": [
        {
          "output_type": "stream",
          "name": "stdout",
          "text": [
            "<class 'str'>\n",
            "banana\n",
            "cherry\n"
          ]
        }
      ]
    },
    {
      "cell_type": "code",
      "metadata": {
        "colab": {
          "base_uri": "https://localhost:8080/"
        },
        "id": "5fIxfSO1B7QO",
        "outputId": "d0044f0b-4c8d-4a67-bbf5-6afd7bf0428a"
      },
      "source": [
        "count, fruit, price = (2, 'apple', 3.5)\n",
        "\n",
        "print(count)"
      ],
      "execution_count": 3,
      "outputs": [
        {
          "output_type": "stream",
          "name": "stdout",
          "text": [
            "2\n"
          ]
        }
      ]
    },
    {
      "cell_type": "code",
      "metadata": {
        "colab": {
          "base_uri": "https://localhost:8080/"
        },
        "id": "fCr_fhZ1B7St",
        "outputId": "9a7a6851-67ce-498f-8bb5-d1f843eb8078"
      },
      "source": [
        "college_years = ['Freshman', 'Sophomore', 'Junior', 'Senior']\n",
        "print(dict(enumerate(college_years, 2019)))\n"
      ],
      "execution_count": 9,
      "outputs": [
        {
          "output_type": "stream",
          "name": "stdout",
          "text": [
            "{2019: 'Freshman', 2020: 'Sophomore', 2021: 'Junior', 2022: 'Senior'}\n"
          ]
        }
      ]
    },
    {
      "cell_type": "code",
      "metadata": {
        "colab": {
          "base_uri": "https://localhost:8080/"
        },
        "id": "LOqYGjVvB7WI",
        "outputId": "1d1490b7-c2ff-4948-fd94-80036cc84e55"
      },
      "source": [
        "fruits = ['Apples', 'Oranges', 'Bananas']\n",
        "quantities = [5, 3, 4]\n",
        "prices = [1.50, 2.25, 0.89]\n",
        "groceries = zip(fruits, quantities, prices)\n",
        "print(list(groceries))"
      ],
      "execution_count": 12,
      "outputs": [
        {
          "output_type": "stream",
          "name": "stdout",
          "text": [
            "[('Apples', 5, 1.5), ('Oranges', 3, 2.25), ('Bananas', 4, 0.89)]\n"
          ]
        }
      ]
    },
    {
      "cell_type": "code",
      "metadata": {
        "colab": {
          "base_uri": "https://localhost:8080/"
        },
        "id": "2HCUWVELB7Y5",
        "outputId": "eaeeb267-30ab-4efd-d227-87f3ac5d4227"
      },
      "source": [
        "fruits = ['Apples', 'Oranges', 'Bananas']\n",
        "quantities = [5, 3, 4]\n",
        "prices = [1.50, 2.25, 0.89]\n",
        "i = 0\n",
        "output = []\n",
        "for fruit in fruits:\n",
        " temp_qty = quantities[i]\n",
        " temp_price = prices[i]\n",
        " output.append((fruit, temp_qty, temp_price))\n",
        "i += 1\n",
        "print(output)"
      ],
      "execution_count": 14,
      "outputs": [
        {
          "output_type": "stream",
          "name": "stdout",
          "text": [
            "[('Apples', 5, 1.5), ('Oranges', 5, 1.5), ('Bananas', 5, 1.5)]\n"
          ]
        }
      ]
    },
    {
      "cell_type": "code",
      "metadata": {
        "colab": {
          "base_uri": "https://localhost:8080/",
          "height": 130
        },
        "id": "oQ1boguHB7bi",
        "outputId": "525a94bc-5c09-4565-f107-e926817b730a"
      },
      "source": [
        "fruits = ['Apples', 'Oranges', 'Bananas']\n",
        "quantities = [5, 3, 4]\n",
        "prices = [1.50, 2.25, 0.89]\n",
        "i = 0\n",
        "output = []\n",
        "  for fruit in fruits:\n",
        "for qty in quantities:\n",
        "for price in prices:\n",
        " output.append((fruit, qty, price))\n",
        " i += 1\n",
        "print(output)"
      ],
      "execution_count": 17,
      "outputs": [
        {
          "output_type": "error",
          "ename": "IndentationError",
          "evalue": "ignored",
          "traceback": [
            "\u001b[0;36m  File \u001b[0;32m\"<ipython-input-17-f050eda37b77>\"\u001b[0;36m, line \u001b[0;32m6\u001b[0m\n\u001b[0;31m    for fruit in fruits:\u001b[0m\n\u001b[0m    ^\u001b[0m\n\u001b[0;31mIndentationError\u001b[0m\u001b[0;31m:\u001b[0m unexpected indent\n"
          ]
        }
      ]
    },
    {
      "cell_type": "code",
      "metadata": {
        "id": "Nr-v7B5eB7eO"
      },
      "source": [
        ""
      ],
      "execution_count": null,
      "outputs": []
    },
    {
      "cell_type": "code",
      "metadata": {
        "id": "5-pCWHX3B7g5"
      },
      "source": [
        ""
      ],
      "execution_count": null,
      "outputs": []
    },
    {
      "cell_type": "code",
      "metadata": {
        "id": "4Njnn6UTB7jw"
      },
      "source": [
        ""
      ],
      "execution_count": null,
      "outputs": []
    }
  ]
}