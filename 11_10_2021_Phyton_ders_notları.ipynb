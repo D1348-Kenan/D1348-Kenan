{
  "nbformat": 4,
  "nbformat_minor": 0,
  "metadata": {
    "colab": {
      "name": "11.10.2021 Phyton ders notları.ipynb",
      "provenance": [],
      "authorship_tag": "ABX9TyP2blnCQo9FijM5+11A2Xgq",
      "include_colab_link": true
    },
    "kernelspec": {
      "name": "python3",
      "display_name": "Python 3"
    },
    "language_info": {
      "name": "python"
    }
  },
  "cells": [
    {
      "cell_type": "markdown",
      "metadata": {
        "id": "view-in-github",
        "colab_type": "text"
      },
      "source": [
        "<a href=\"https://colab.research.google.com/github/D1348-Kenan/D1348-Kenan/blob/main/11_10_2021_Phyton_ders_notlar%C4%B1.ipynb\" target=\"_parent\"><img src=\"https://colab.research.google.com/assets/colab-badge.svg\" alt=\"Open In Colab\"/></a>"
      ]
    },
    {
      "cell_type": "code",
      "metadata": {
        "colab": {
          "base_uri": "https://localhost:8080/"
        },
        "id": "0ephvtvfYZCh",
        "outputId": "7a910a44-70fe-4461-f446-ee026e45d1ac"
      },
      "source": [
        "text = \"Clarusway\"\n",
        "\n",
        "text.startswith(\"lc\")"
      ],
      "execution_count": 1,
      "outputs": [
        {
          "output_type": "execute_result",
          "data": {
            "text/plain": [
              "False"
            ]
          },
          "metadata": {},
          "execution_count": 1
        }
      ]
    },
    {
      "cell_type": "code",
      "metadata": {
        "colab": {
          "base_uri": "https://localhost:8080/"
        },
        "id": "-IjYS7iMYhtd",
        "outputId": "42dcdd77-bf32-4319-e9dc-2b2491e9e1ba"
      },
      "source": [
        "text.endswith(\"ya\")"
      ],
      "execution_count": 2,
      "outputs": [
        {
          "output_type": "execute_result",
          "data": {
            "text/plain": [
              "False"
            ]
          },
          "metadata": {},
          "execution_count": 2
        }
      ]
    },
    {
      "cell_type": "code",
      "metadata": {
        "colab": {
          "base_uri": "https://localhost:8080/"
        },
        "id": "1mk5-I4XYhzt",
        "outputId": "30384997-4c76-4827-c74f-97c5ac1a2a6a"
      },
      "source": [
        "text.startswith(\"u\", 4)"
      ],
      "execution_count": 3,
      "outputs": [
        {
          "output_type": "execute_result",
          "data": {
            "text/plain": [
              "True"
            ]
          },
          "metadata": {},
          "execution_count": 3
        }
      ]
    },
    {
      "cell_type": "code",
      "metadata": {
        "colab": {
          "base_uri": "https://localhost:8080/",
          "height": 35
        },
        "id": "m78GfoE_Yh7t",
        "outputId": "edc5905b-248e-463b-a07e-d8a5df7e2a92"
      },
      "source": [
        "text.replace(\"c\", \"C\")\n",
        "text"
      ],
      "execution_count": 4,
      "outputs": [
        {
          "output_type": "execute_result",
          "data": {
            "application/vnd.google.colaboratory.intrinsic+json": {
              "type": "string"
            },
            "text/plain": [
              "'Clarusway'"
            ]
          },
          "metadata": {},
          "execution_count": 4
        }
      ]
    },
    {
      "cell_type": "code",
      "metadata": {
        "colab": {
          "base_uri": "https://localhost:8080/",
          "height": 35
        },
        "id": "tK4FRo5qYh-5",
        "outputId": "8586e7df-ac01-43bb-a05c-592f42fa79aa"
      },
      "source": [
        "str.swapcase(text)"
      ],
      "execution_count": 5,
      "outputs": [
        {
          "output_type": "execute_result",
          "data": {
            "application/vnd.google.colaboratory.intrinsic+json": {
              "type": "string"
            },
            "text/plain": [
              "'cLARUSWAY'"
            ]
          },
          "metadata": {},
          "execution_count": 5
        }
      ]
    },
    {
      "cell_type": "code",
      "metadata": {
        "colab": {
          "base_uri": "https://localhost:8080/",
          "height": 52
        },
        "id": "HpTf9kBbYiCD",
        "outputId": "8fbebde8-ce45-410a-fa92-b99ca1f75612"
      },
      "source": [
        "text = \"ali veli deli\"\n",
        "print(str.capitalize(text))\n",
        "text"
      ],
      "execution_count": 11,
      "outputs": [
        {
          "output_type": "stream",
          "name": "stdout",
          "text": [
            "Ali veli deli\n"
          ]
        },
        {
          "output_type": "execute_result",
          "data": {
            "application/vnd.google.colaboratory.intrinsic+json": {
              "type": "string"
            },
            "text/plain": [
              "'ali veli deli'"
            ]
          },
          "metadata": {},
          "execution_count": 11
        }
      ]
    },
    {
      "cell_type": "code",
      "metadata": {
        "colab": {
          "base_uri": "https://localhost:8080/"
        },
        "id": "pedyYOwFYiFF",
        "outputId": "bc3663b4-5fe9-4c27-a1d0-b86769b6e41c"
      },
      "source": [
        "text = 'SOdOme and GOmOre'\n",
        "changed_text = text.replace(\"O\",\"o\")\n",
        "print(changed_text)"
      ],
      "execution_count": 12,
      "outputs": [
        {
          "output_type": "stream",
          "name": "stdout",
          "text": [
            "Sodome and Gomore\n"
          ]
        }
      ]
    },
    {
      "cell_type": "code",
      "metadata": {
        "colab": {
          "base_uri": "https://localhost:8080/",
          "height": 35
        },
        "id": "SziDLBQTYiJS",
        "outputId": "6e55e869-2b45-4dd1-b15b-8f9e2e399fc5"
      },
      "source": [
        "text = \"{:.2f}, {:.3f}, {:.4f}\".format(3.1463, 5.367, 7.324324)\n",
        "text"
      ],
      "execution_count": 14,
      "outputs": [
        {
          "output_type": "execute_result",
          "data": {
            "application/vnd.google.colaboratory.intrinsic+json": {
              "type": "string"
            },
            "text/plain": [
              "'3.15, 5.367, 7.3243'"
            ]
          },
          "metadata": {},
          "execution_count": 14
        }
      ]
    },
    {
      "cell_type": "code",
      "metadata": {
        "colab": {
          "base_uri": "https://localhost:8080/",
          "height": 35
        },
        "id": "q51VIlKvYiQp",
        "outputId": "374be86c-fb34-4f58-c173-2a342333517b"
      },
      "source": [
        "text = \"{:.2s}, {:.3s}, {:.4s}\".format(\"a3.1463\", \"5.b367\", \"7.324324c\")\n",
        "text"
      ],
      "execution_count": 16,
      "outputs": [
        {
          "output_type": "execute_result",
          "data": {
            "application/vnd.google.colaboratory.intrinsic+json": {
              "type": "string"
            },
            "text/plain": [
              "'a3, 5.b, 7.32'"
            ]
          },
          "metadata": {},
          "execution_count": 16
        }
      ]
    },
    {
      "cell_type": "code",
      "metadata": {
        "colab": {
          "base_uri": "https://localhost:8080/",
          "height": 35
        },
        "id": "NIimjr7kYiSy",
        "outputId": "2d809b1c-5ff9-466d-98e3-8df7329887d3"
      },
      "source": [
        "text = \"formatlama satırı {:>20} bu da textin son kısmı\".format(\"test\")\n",
        "text"
      ],
      "execution_count": 18,
      "outputs": [
        {
          "output_type": "execute_result",
          "data": {
            "application/vnd.google.colaboratory.intrinsic+json": {
              "type": "string"
            },
            "text/plain": [
              "'formatlama satırı                 test bu da textin son kısmı'"
            ]
          },
          "metadata": {},
          "execution_count": 18
        }
      ]
    },
    {
      "cell_type": "code",
      "metadata": {
        "colab": {
          "base_uri": "https://localhost:8080/",
          "height": 35
        },
        "id": "LwTFhs1NYie0",
        "outputId": "5a773ed2-64e3-4a91-c736-681830680612"
      },
      "source": [
        "text = \"{:^20}\".format(\"abc\")\n",
        "text"
      ],
      "execution_count": 19,
      "outputs": [
        {
          "output_type": "execute_result",
          "data": {
            "application/vnd.google.colaboratory.intrinsic+json": {
              "type": "string"
            },
            "text/plain": [
              "'        abc         '"
            ]
          },
          "metadata": {},
          "execution_count": 19
        }
      ]
    },
    {
      "cell_type": "code",
      "metadata": {
        "colab": {
          "base_uri": "https://localhost:8080/"
        },
        "id": "LZlpqqPldm3C",
        "outputId": "a8f8574c-7bfb-4e2a-e717-e3b0fd7ddc0b"
      },
      "source": [
        "age = True\n",
        "chronic = True\n",
        "immune = True\n",
        "\n",
        "risk = age or chronic or immune\n",
        "risk"
      ],
      "execution_count": 20,
      "outputs": [
        {
          "output_type": "execute_result",
          "data": {
            "text/plain": [
              "True"
            ]
          },
          "metadata": {},
          "execution_count": 20
        }
      ]
    },
    {
      "cell_type": "code",
      "metadata": {
        "id": "9NgHOUXsdm1N"
      },
      "source": [
        ""
      ],
      "execution_count": null,
      "outputs": []
    },
    {
      "cell_type": "code",
      "metadata": {
        "id": "QMEJp14Ydmzf"
      },
      "source": [
        ""
      ],
      "execution_count": null,
      "outputs": []
    },
    {
      "cell_type": "code",
      "metadata": {
        "id": "QOeeV2wkdmwk"
      },
      "source": [
        ""
      ],
      "execution_count": null,
      "outputs": []
    },
    {
      "cell_type": "code",
      "metadata": {
        "id": "ICYWxn5idmqN"
      },
      "source": [
        ""
      ],
      "execution_count": null,
      "outputs": []
    },
    {
      "cell_type": "code",
      "metadata": {
        "id": "92qS4GH3dmmn"
      },
      "source": [
        ""
      ],
      "execution_count": null,
      "outputs": []
    },
    {
      "cell_type": "code",
      "metadata": {
        "id": "eEKSsV-tdmfX"
      },
      "source": [
        ""
      ],
      "execution_count": null,
      "outputs": []
    },
    {
      "cell_type": "code",
      "metadata": {
        "id": "0IfFI7rAdmVw"
      },
      "source": [
        ""
      ],
      "execution_count": null,
      "outputs": []
    },
    {
      "cell_type": "code",
      "metadata": {
        "id": "oN-y6gD_dmI0"
      },
      "source": [
        ""
      ],
      "execution_count": null,
      "outputs": []
    }
  ]
}