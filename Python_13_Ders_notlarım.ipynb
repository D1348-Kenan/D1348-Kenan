{
  "nbformat": 4,
  "nbformat_minor": 0,
  "metadata": {
    "colab": {
      "name": "Python-13 Ders notlarım.ipynb",
      "provenance": [],
      "authorship_tag": "ABX9TyOsMBGCn+CZkPd87PsOJO9E",
      "include_colab_link": true
    },
    "kernelspec": {
      "name": "python3",
      "display_name": "Python 3"
    },
    "language_info": {
      "name": "python"
    }
  },
  "cells": [
    {
      "cell_type": "markdown",
      "metadata": {
        "id": "view-in-github",
        "colab_type": "text"
      },
      "source": [
        "<a href=\"https://colab.research.google.com/github/D1348-Kenan/D1348-Kenan/blob/main/Python_13_Ders_notlar%C4%B1m.ipynb\" target=\"_parent\"><img src=\"https://colab.research.google.com/assets/colab-badge.svg\" alt=\"Open In Colab\"/></a>"
      ]
    },
    {
      "cell_type": "code",
      "metadata": {
        "colab": {
          "base_uri": "https://localhost:8080/"
        },
        "id": "HeM0N8ldQ-CB",
        "outputId": "1b32a349-e04d-4317-8b77-bd1329998331"
      },
      "source": [
        "names = [\"Ahmed\", \"Aisha\", \"Adam\", \"Joseph\", \"Gabriel\"]\n",
        "\n",
        "for i in names:\n",
        "  print(\"hello\", i)"
      ],
      "execution_count": 1,
      "outputs": [
        {
          "output_type": "stream",
          "name": "stdout",
          "text": [
            "hello Ahmed\n",
            "hello Aisha\n",
            "hello Adam\n",
            "hello Joseph\n",
            "hello Gabriel\n"
          ]
        }
      ]
    },
    {
      "cell_type": "code",
      "metadata": {
        "colab": {
          "base_uri": "https://localhost:8080/"
        },
        "id": "V7yG-FDpRETB",
        "outputId": "26e36ed3-83aa-4065-f7ea-922a95b7ca11"
      },
      "source": [
        "liste = []\n",
        "for i in range(1,6):\n",
        "    liste.append(i)\n",
        "print(liste)"
      ],
      "execution_count": 6,
      "outputs": [
        {
          "output_type": "stream",
          "name": "stdout",
          "text": [
            "[1, 2, 3, 4, 5]\n"
          ]
        }
      ]
    },
    {
      "cell_type": "code",
      "metadata": {
        "colab": {
          "base_uri": "https://localhost:8080/"
        },
        "id": "gaucb9AfREhI",
        "outputId": "ca1508fb-882a-4f73-95c3-af3bb2ec65f5"
      },
      "source": [
        "name = input(\"isminizi yazınız :\")\n",
        "\n",
        "for i in name:\n",
        "  print(i, end=\"-\")  #sondaki tireden nasıl kurtulacağız. Alttaki örnek."
      ],
      "execution_count": 16,
      "outputs": [
        {
          "output_type": "stream",
          "name": "stdout",
          "text": [
            "isminizi yazınız :kwnn\n",
            "k-w-n-n-"
          ]
        }
      ]
    },
    {
      "cell_type": "code",
      "metadata": {
        "colab": {
          "base_uri": "https://localhost:8080/"
        },
        "id": "Vh77W-YeRElS",
        "outputId": "8600a957-d496-434c-c548-4f3b3507a9a9"
      },
      "source": [
        "name = input(\"isminizi yazınız :\")\n",
        "\n",
        "counter = 0\n",
        "for i in name:\n",
        "\n",
        "  counter += 1\n",
        "  if counter < len(name) :\n",
        "    i = i + \"-\"\n",
        "  print(i, end=\"\")"
      ],
      "execution_count": 17,
      "outputs": [
        {
          "output_type": "stream",
          "name": "stdout",
          "text": [
            "isminizi yazınız :clarusway\n",
            "c-l-a-r-u-s-w-a-y"
          ]
        }
      ]
    },
    {
      "cell_type": "code",
      "metadata": {
        "colab": {
          "base_uri": "https://localhost:8080/"
        },
        "id": "MZEHMvuaREoj",
        "outputId": "42859711-3512-4f51-b734-b158d85628b3"
      },
      "source": [
        "user = {\n",
        "    \"name\": \"Daniel\",\n",
        "    \"surname\": \"Smith\",\n",
        "    \"age\": 35\n",
        "}\n",
        "\n",
        "for key, value in user.items():\n",
        "  print(key,\":\",value)"
      ],
      "execution_count": 19,
      "outputs": [
        {
          "output_type": "stream",
          "name": "stdout",
          "text": [
            "name : Daniel\n",
            "surname : Smith\n",
            "age : 35\n"
          ]
        }
      ]
    },
    {
      "cell_type": "code",
      "metadata": {
        "colab": {
          "base_uri": "https://localhost:8080/"
        },
        "id": "UFQ50nzZRErx",
        "outputId": "32e16797-eeb7-4acc-9f70-0eec326efc42"
      },
      "source": [
        "numara = int(input(\"1-9 arası numara gir\"))\n",
        "\n",
        "for i in range(11) :\n",
        "  print(\"{}x{} = \".format(numara, i), numara * i)"
      ],
      "execution_count": 20,
      "outputs": [
        {
          "output_type": "stream",
          "name": "stdout",
          "text": [
            "1-9 arası numara gir5\n",
            "5x0 =  0\n",
            "5x1 =  5\n",
            "5x2 =  10\n",
            "5x3 =  15\n",
            "5x4 =  20\n",
            "5x5 =  25\n",
            "5x6 =  30\n",
            "5x7 =  35\n",
            "5x8 =  40\n",
            "5x9 =  45\n",
            "5x10 =  50\n"
          ]
        }
      ]
    },
    {
      "cell_type": "code",
      "metadata": {
        "colab": {
          "base_uri": "https://localhost:8080/"
        },
        "id": "ly6sKMWDfcpb",
        "outputId": "28cfaa9c-7911-4590-b41a-8ea1423d4443"
      },
      "source": [
        "counter = 0\n",
        "\n",
        "for i in range(1,10) :\n",
        "  print(str(i) * i)"
      ],
      "execution_count": 21,
      "outputs": [
        {
          "output_type": "stream",
          "name": "stdout",
          "text": [
            "1\n",
            "22\n",
            "333\n",
            "4444\n",
            "55555\n",
            "666666\n",
            "7777777\n",
            "88888888\n",
            "999999999\n"
          ]
        }
      ]
    },
    {
      "cell_type": "code",
      "metadata": {
        "colab": {
          "base_uri": "https://localhost:8080/",
          "height": 35
        },
        "id": "NI3wojV7fclx",
        "outputId": "b44d2e7c-e785-4fea-8882-cecb4e35fd2f"
      },
      "source": [
        "\"5\" * 5"
      ],
      "execution_count": 22,
      "outputs": [
        {
          "output_type": "execute_result",
          "data": {
            "application/vnd.google.colaboratory.intrinsic+json": {
              "type": "string"
            },
            "text/plain": [
              "'55555'"
            ]
          },
          "metadata": {},
          "execution_count": 22
        }
      ]
    },
    {
      "cell_type": "code",
      "metadata": {
        "colab": {
          "base_uri": "https://localhost:8080/"
        },
        "id": "3MKTNGRYfcfe",
        "outputId": "9978d9c7-d0b2-419e-9162-ca935fca4dc8"
      },
      "source": [
        "print(*range(5,25,2))"
      ],
      "execution_count": 23,
      "outputs": [
        {
          "output_type": "stream",
          "name": "stdout",
          "text": [
            "5 7 9 11 13 15 17 19 21 23\n"
          ]
        }
      ]
    },
    {
      "cell_type": "code",
      "metadata": {
        "colab": {
          "base_uri": "https://localhost:8080/",
          "height": 35
        },
        "id": "bs3DRLx-fcd3",
        "outputId": "ea991b53-2c18-40ec-da4e-5eb30835878c"
      },
      "source": [
        "\"ali \" * 3"
      ],
      "execution_count": 24,
      "outputs": [
        {
          "output_type": "execute_result",
          "data": {
            "application/vnd.google.colaboratory.intrinsic+json": {
              "type": "string"
            },
            "text/plain": [
              "'ali ali ali '"
            ]
          },
          "metadata": {},
          "execution_count": 24
        }
      ]
    },
    {
      "cell_type": "code",
      "metadata": {
        "colab": {
          "base_uri": "https://localhost:8080/"
        },
        "id": "Z0wl_RU2fccO",
        "outputId": "01a47c2b-9d52-4486-d2c0-a743f06019e0"
      },
      "source": [
        "print(* range(10,1,-1))"
      ],
      "execution_count": 25,
      "outputs": [
        {
          "output_type": "stream",
          "name": "stdout",
          "text": [
            "10 9 8 7 6 5 4 3 2\n"
          ]
        }
      ]
    },
    {
      "cell_type": "code",
      "metadata": {
        "id": "omat8FksfcWW"
      },
      "source": [
        "text = ['one', 'two', 'three', 'four', 'five']\n",
        "numbers = [1, 2, 3, 4, 5]\n",
        "#for x, y in zip(text, numbers):\n",
        "#\tprint(x, ':', y)"
      ],
      "execution_count": 28,
      "outputs": []
    },
    {
      "cell_type": "code",
      "metadata": {
        "id": "QrOuzd5CfcS-"
      },
      "source": [
        "zipped = zip(text, numbers)"
      ],
      "execution_count": 33,
      "outputs": []
    },
    {
      "cell_type": "code",
      "metadata": {
        "colab": {
          "base_uri": "https://localhost:8080/"
        },
        "id": "hi4eX8Q-fRvF",
        "outputId": "954ddd36-72f8-4375-d932-d0e6b4c946c8"
      },
      "source": [
        "for x, y in zipped:\n",
        "  print(x, ':', y)"
      ],
      "execution_count": 34,
      "outputs": [
        {
          "output_type": "stream",
          "name": "stdout",
          "text": [
            "one : 1\n",
            "two : 2\n",
            "three : 3\n",
            "four : 4\n",
            "five : 5\n"
          ]
        }
      ]
    },
    {
      "cell_type": "code",
      "metadata": {
        "id": "fDaTrcATuX3d"
      },
      "source": [
        "zipped = zip(text, numbers)"
      ],
      "execution_count": 36,
      "outputs": []
    },
    {
      "cell_type": "code",
      "metadata": {
        "colab": {
          "base_uri": "https://localhost:8080/"
        },
        "id": "fvyZZGjQfRrx",
        "outputId": "0ad53e4f-b884-4279-b64b-76a0e8c19743"
      },
      "source": [
        "dict(zipped)"
      ],
      "execution_count": 37,
      "outputs": [
        {
          "output_type": "execute_result",
          "data": {
            "text/plain": [
              "{'five': 5, 'four': 4, 'one': 1, 'three': 3, 'two': 2}"
            ]
          },
          "metadata": {},
          "execution_count": 37
        }
      ]
    },
    {
      "cell_type": "code",
      "metadata": {
        "colab": {
          "base_uri": "https://localhost:8080/"
        },
        "id": "I2TiThIufRmK",
        "outputId": "8397c83f-d290-4f07-c40c-ae35feb87069"
      },
      "source": [
        "evens = []\n",
        "odds = []\n",
        "\n",
        "for n in range(10):\n",
        "  if n%2==0:\n",
        "    evens.append(n)\n",
        "  else:\n",
        "    odds.append(n)\n",
        "print(\"evens: \", evens)\n",
        "print(\"odds :\", odds)  "
      ],
      "execution_count": 40,
      "outputs": [
        {
          "output_type": "stream",
          "name": "stdout",
          "text": [
            "evens:  [0, 2, 4, 6, 8]\n",
            "odds : [1, 3, 5, 7, 9]\n"
          ]
        }
      ]
    },
    {
      "cell_type": "code",
      "metadata": {
        "id": "nFkqu73qfRd_"
      },
      "source": [
        ""
      ],
      "execution_count": null,
      "outputs": []
    },
    {
      "cell_type": "code",
      "metadata": {
        "id": "G4_WcBBBfRTF"
      },
      "source": [
        ""
      ],
      "execution_count": null,
      "outputs": []
    },
    {
      "cell_type": "code",
      "metadata": {
        "id": "w5NimQyquiAB"
      },
      "source": [
        ""
      ],
      "execution_count": null,
      "outputs": []
    },
    {
      "cell_type": "code",
      "metadata": {
        "id": "2Km1TUkduhzE"
      },
      "source": [
        ""
      ],
      "execution_count": null,
      "outputs": []
    },
    {
      "cell_type": "code",
      "metadata": {
        "id": "QFAK561iuhtN"
      },
      "source": [
        ""
      ],
      "execution_count": null,
      "outputs": []
    },
    {
      "cell_type": "code",
      "metadata": {
        "id": "0f55yud_uhp7"
      },
      "source": [
        ""
      ],
      "execution_count": null,
      "outputs": []
    },
    {
      "cell_type": "code",
      "metadata": {
        "id": "ajpvc9zLuhkO"
      },
      "source": [
        ""
      ],
      "execution_count": null,
      "outputs": []
    },
    {
      "cell_type": "code",
      "metadata": {
        "id": "IBvTPkoMuhf1"
      },
      "source": [
        ""
      ],
      "execution_count": null,
      "outputs": []
    },
    {
      "cell_type": "code",
      "metadata": {
        "id": "61r7aOqhuhb3"
      },
      "source": [
        ""
      ],
      "execution_count": null,
      "outputs": []
    },
    {
      "cell_type": "code",
      "metadata": {
        "id": "UqFe9jMtuhYQ"
      },
      "source": [
        ""
      ],
      "execution_count": null,
      "outputs": []
    },
    {
      "cell_type": "code",
      "metadata": {
        "id": "pccH5wz2uhRE"
      },
      "source": [
        ""
      ],
      "execution_count": null,
      "outputs": []
    },
    {
      "cell_type": "code",
      "metadata": {
        "id": "sfEq-tYZuhGb"
      },
      "source": [
        ""
      ],
      "execution_count": null,
      "outputs": []
    }
  ]
}