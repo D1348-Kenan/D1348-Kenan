{
  "nbformat": 4,
  "nbformat_minor": 0,
  "metadata": {
    "colab": {
      "name": "Task if-else statements True False.ipynb",
      "provenance": [],
      "authorship_tag": "ABX9TyMw6T2xyKmc+1eo2HrOe4Rt",
      "include_colab_link": true
    },
    "kernelspec": {
      "name": "python3",
      "display_name": "Python 3"
    },
    "language_info": {
      "name": "python"
    }
  },
  "cells": [
    {
      "cell_type": "markdown",
      "metadata": {
        "id": "view-in-github",
        "colab_type": "text"
      },
      "source": [
        "<a href=\"https://colab.research.google.com/github/D1348-Kenan/D1348-Kenan/blob/main/Task_if_else_statements_True_False.ipynb\" target=\"_parent\"><img src=\"https://colab.research.google.com/assets/colab-badge.svg\" alt=\"Open In Colab\"/></a>"
      ]
    },
    {
      "cell_type": "markdown",
      "metadata": {
        "id": "3AkTUcmThMRz"
      },
      "source": [
        "# **if-else Statements**"
      ]
    },
    {
      "cell_type": "markdown",
      "metadata": {
        "id": "8XkpIArihk25"
      },
      "source": [
        "Girilen iki rakamdan büyük olanı gösteren kod yazınız"
      ]
    },
    {
      "cell_type": "code",
      "metadata": {
        "colab": {
          "base_uri": "https://localhost:8080/"
        },
        "id": "bG3arql9hfTV",
        "outputId": "bfd1a36b-9c1a-4f7d-c963-ee647d0eec17"
      },
      "source": [
        "num1 = float(input(\"Enter first number: \"))\n",
        "num2 = float(input(\"Enter second number: \"))\n",
        "\n",
        "if (num1 > num2) :\n",
        "  larger = num1\n",
        "else :\n",
        "  larger = num2\n",
        "\n",
        "print(\"The larger number is \", larger)"
      ],
      "execution_count": 1,
      "outputs": [
        {
          "output_type": "stream",
          "name": "stdout",
          "text": [
            "Enter first number: 5\n",
            "Enter second number: 7\n",
            "The larger number is  7.0\n"
          ]
        }
      ]
    },
    {
      "cell_type": "markdown",
      "metadata": {
        "id": "R0Axj_9yiTmm"
      },
      "source": [
        "****Önemli nokta Else den sonra condition gelmez.** Condition sadece if ve elif ten sonra gelir. Geri kalanlar else den sonra gelir."
      ]
    },
    {
      "cell_type": "code",
      "metadata": {
        "id": "dpHZIWsZhfRB"
      },
      "source": [
        "#Task: Conver boolean True to string value of \"Yes\", convert boolean False to string value of \"No\"."
      ],
      "execution_count": null,
      "outputs": []
    },
    {
      "cell_type": "code",
      "metadata": {
        "colab": {
          "base_uri": "https://localhost:8080/"
        },
        "id": "-KHTpmBDhfL8",
        "outputId": "f4bc9b85-be8f-43d5-ed64-0e878a723402"
      },
      "source": [
        "bool_value = False\n",
        "if bool_value :\n",
        "  print(\"Yes\")\n",
        "else :\n",
        "  print(\"No\")"
      ],
      "execution_count": 5,
      "outputs": [
        {
          "output_type": "stream",
          "name": "stdout",
          "text": [
            "No\n"
          ]
        }
      ]
    },
    {
      "cell_type": "code",
      "metadata": {
        "id": "Iw6xUYJfhfIK"
      },
      "source": [
        ""
      ],
      "execution_count": null,
      "outputs": []
    },
    {
      "cell_type": "code",
      "metadata": {
        "id": "uXGqZEJKhfDl"
      },
      "source": [
        ""
      ],
      "execution_count": null,
      "outputs": []
    },
    {
      "cell_type": "code",
      "metadata": {
        "id": "gjJpR_Wvhe-d"
      },
      "source": [
        ""
      ],
      "execution_count": null,
      "outputs": []
    }
  ]
}