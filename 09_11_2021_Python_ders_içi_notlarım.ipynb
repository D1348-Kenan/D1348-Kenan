{
  "nbformat": 4,
  "nbformat_minor": 0,
  "metadata": {
    "colab": {
      "name": "09.11.2021 Python ders içi notlarım.ipynb",
      "provenance": [],
      "authorship_tag": "ABX9TyMINgl/OMj0rFikoBv1LE+R",
      "include_colab_link": true
    },
    "kernelspec": {
      "name": "python3",
      "display_name": "Python 3"
    },
    "language_info": {
      "name": "python"
    }
  },
  "cells": [
    {
      "cell_type": "markdown",
      "metadata": {
        "id": "view-in-github",
        "colab_type": "text"
      },
      "source": [
        "<a href=\"https://colab.research.google.com/github/D1348-Kenan/D1348-Kenan/blob/main/09_11_2021_Python_ders_i%C3%A7i_notlar%C4%B1m.ipynb\" target=\"_parent\"><img src=\"https://colab.research.google.com/assets/colab-badge.svg\" alt=\"Open In Colab\"/></a>"
      ]
    },
    {
      "cell_type": "code",
      "metadata": {
        "colab": {
          "base_uri": "https://localhost:8080/"
        },
        "id": "arNDB-2nP-VZ",
        "outputId": "0f0a3de0-bca8-47a4-8b9e-772f10030d71"
      },
      "source": [
        "answer = 39\n",
        "\n",
        "print(\"Let's play a guessing game!\")\n",
        "\n",
        "while True:\n",
        "  guess = int(input(\"Guess my number :\"))\n",
        "  if guess < answer :\n",
        "    print(\"Little higher..\")\n",
        "  elif guess > answer :\n",
        "    print(\"Little lower..\")\n",
        "  else: \n",
        "    print(\"Are you a MINDREADER!!!\")\n",
        "    break"
      ],
      "execution_count": 3,
      "outputs": [
        {
          "output_type": "stream",
          "name": "stdout",
          "text": [
            "Let's play a guessing game!\n",
            "Guess my number :67\n",
            "Little lower..\n",
            "Guess my number :87\n",
            "Little lower..\n",
            "Guess my number :23\n",
            "Little higher..\n",
            "Guess my number :39\n",
            "Are you a MINDREADER!!!\n"
          ]
        }
      ]
    },
    {
      "cell_type": "code",
      "metadata": {
        "colab": {
          "base_uri": "https://localhost:8080/"
        },
        "id": "wuDgqkATUlFd",
        "outputId": "0caa7883-e024-4529-bad0-2dbfd63cbd8d"
      },
      "source": [
        "\"The best is Clarusway always.\".split()"
      ],
      "execution_count": 4,
      "outputs": [
        {
          "output_type": "execute_result",
          "data": {
            "text/plain": [
              "['The', 'best', 'is', 'Clarusway', 'always.']"
            ]
          },
          "metadata": {},
          "execution_count": 4
        }
      ]
    },
    {
      "cell_type": "code",
      "metadata": {
        "colab": {
          "base_uri": "https://localhost:8080/"
        },
        "id": "1JzLJTRDTjoj",
        "outputId": "2976046f-31ca-4305-8da7-85ee9243a7b0"
      },
      "source": [
        "sentence = input(\"Write your sentence here!\")\n",
        "\n",
        "word_list = sentence.split()\n",
        "i = 0\n",
        "longest = 0\n",
        "\n",
        "while i < len(word_list) :\n",
        "  if len(word_list[i]) > longest :\n",
        "    longest = len(word_list[i])\n",
        "  i += 1\n",
        "print(\"the lengt of the longest word :\", longest)"
      ],
      "execution_count": 6,
      "outputs": [
        {
          "output_type": "stream",
          "name": "stdout",
          "text": [
            "Write your sentence here!The best is Clarusway always.\n",
            "the lengt of the longest word : 9\n"
          ]
        }
      ]
    },
    {
      "cell_type": "code",
      "metadata": {
        "id": "EyE0mZw4Tjk4"
      },
      "source": [
        ""
      ],
      "execution_count": null,
      "outputs": []
    },
    {
      "cell_type": "code",
      "metadata": {
        "id": "UAEuLsOxTjho"
      },
      "source": [
        ""
      ],
      "execution_count": null,
      "outputs": []
    },
    {
      "cell_type": "code",
      "metadata": {
        "id": "3mezls1bTjYE"
      },
      "source": [
        ""
      ],
      "execution_count": null,
      "outputs": []
    },
    {
      "cell_type": "code",
      "metadata": {
        "id": "tbSuct9bTjAP"
      },
      "source": [
        ""
      ],
      "execution_count": null,
      "outputs": []
    }
  ]
}