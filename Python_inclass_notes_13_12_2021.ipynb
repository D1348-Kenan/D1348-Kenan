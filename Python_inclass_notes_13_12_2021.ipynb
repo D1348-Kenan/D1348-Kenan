{
  "nbformat": 4,
  "nbformat_minor": 0,
  "metadata": {
    "colab": {
      "name": "Python inclass notes_13.12.2021.ipynb",
      "provenance": [],
      "authorship_tag": "ABX9TyOypONu1YImXBN1cjy91G8i",
      "include_colab_link": true
    },
    "kernelspec": {
      "name": "python3",
      "display_name": "Python 3"
    },
    "language_info": {
      "name": "python"
    }
  },
  "cells": [
    {
      "cell_type": "markdown",
      "metadata": {
        "id": "view-in-github",
        "colab_type": "text"
      },
      "source": [
        "<a href=\"https://colab.research.google.com/github/D1348-Kenan/D1348-Kenan/blob/main/Python_inclass_notes_13_12_2021.ipynb\" target=\"_parent\"><img src=\"https://colab.research.google.com/assets/colab-badge.svg\" alt=\"Open In Colab\"/></a>"
      ]
    },
    {
      "cell_type": "code",
      "execution_count": null,
      "metadata": {
        "colab": {
          "base_uri": "https://localhost:8080/"
        },
        "id": "AUSyJ7rY-3A7",
        "outputId": "0859778f-9063-4563-cfa0-f8e4c2ddc14b"
      },
      "outputs": [
        {
          "output_type": "stream",
          "name": "stdout",
          "text": [
            "The first number please : 5\n",
            "The second number please : 0\n",
            "Something went wrong...Try again.\n",
            "Probably it is because of 'division by zero' error\n"
          ]
        }
      ],
      "source": [
        "while True:\n",
        "  no_one = int(input(\"The first number please : \"))\n",
        "  no_two = int(input(\"The second number please : \"))\n",
        "  try:\n",
        "    division = no_one / no_two\n",
        "    print(\"The result of the division is : \", division)\n",
        "    break\n",
        "  except Exception as e:\n",
        "    print(\"Something went wrong...Try again.\")\n",
        "    print(\"Probably it is because of '{}' error\".format(e))\n",
        "    break"
      ]
    },
    {
      "cell_type": "code",
      "source": [
        "try:\n",
        "  x = 4/1\n",
        "except:\n",
        "  print('Sth went wrong')\n",
        "else:\n",
        "  print('Nothing went wrong')"
      ],
      "metadata": {
        "id": "3DiYeK70tI0E",
        "outputId": "20f24e50-5d95-4fca-e22a-157692f6cfde",
        "colab": {
          "base_uri": "https://localhost:8080/"
        }
      },
      "execution_count": 3,
      "outputs": [
        {
          "output_type": "stream",
          "name": "stdout",
          "text": [
            "Nothing went wrong\n"
          ]
        }
      ]
    },
    {
      "cell_type": "code",
      "source": [
        "try:\n",
        "  x = 3/0\n",
        "except:\n",
        "  print('Sth went wrong')\n",
        "finally:\n",
        "  print('always excute this')"
      ],
      "metadata": {
        "id": "rGk45vJKss9I",
        "outputId": "163f2b69-49c3-40b3-b4ec-8099418f7a17",
        "colab": {
          "base_uri": "https://localhost:8080/"
        }
      },
      "execution_count": 1,
      "outputs": [
        {
          "output_type": "stream",
          "name": "stdout",
          "text": [
            "Sth went wrong\n",
            "always excute this\n"
          ]
        }
      ]
    },
    {
      "cell_type": "code",
      "source": [
        "try:\n",
        "  f = open('myfile.txt')\n",
        "  print(f.read())\n",
        "except:\n",
        "  print('Sth went wrong')\n",
        "finally:\n",
        "  f.close()"
      ],
      "metadata": {
        "id": "CABwU4CytrE-",
        "outputId": "b092e545-712e-4376-ffab-2481754b19c4",
        "colab": {
          "base_uri": "https://localhost:8080/",
          "height": 217
        }
      },
      "execution_count": 4,
      "outputs": [
        {
          "output_type": "stream",
          "name": "stdout",
          "text": [
            "Sth went wrong\n"
          ]
        },
        {
          "output_type": "error",
          "ename": "NameError",
          "evalue": "ignored",
          "traceback": [
            "\u001b[0;31m---------------------------------------------------------------------------\u001b[0m",
            "\u001b[0;31mNameError\u001b[0m                                 Traceback (most recent call last)",
            "\u001b[0;32m<ipython-input-4-25e20aa36f1d>\u001b[0m in \u001b[0;36m<module>\u001b[0;34m()\u001b[0m\n\u001b[1;32m      5\u001b[0m   \u001b[0mprint\u001b[0m\u001b[0;34m(\u001b[0m\u001b[0;34m'Sth went wrong'\u001b[0m\u001b[0;34m)\u001b[0m\u001b[0;34m\u001b[0m\u001b[0;34m\u001b[0m\u001b[0m\n\u001b[1;32m      6\u001b[0m \u001b[0;32mfinally\u001b[0m\u001b[0;34m:\u001b[0m\u001b[0;34m\u001b[0m\u001b[0;34m\u001b[0m\u001b[0m\n\u001b[0;32m----> 7\u001b[0;31m   \u001b[0mf\u001b[0m\u001b[0;34m.\u001b[0m\u001b[0mclose\u001b[0m\u001b[0;34m(\u001b[0m\u001b[0;34m)\u001b[0m\u001b[0;34m\u001b[0m\u001b[0;34m\u001b[0m\u001b[0m\n\u001b[0m",
            "\u001b[0;31mNameError\u001b[0m: name 'f' is not defined"
          ]
        }
      ]
    },
    {
      "cell_type": "code",
      "source": [
        "try:\n",
        "    x = 2/0\n",
        "\n",
        "except ZeroDivisionError:\n",
        "    print('Attempt to divide by zero')\n",
        "except:\n",
        "    print('Something else went wrong')"
      ],
      "metadata": {
        "colab": {
          "base_uri": "https://localhost:8080/"
        },
        "id": "NNkhW3e1_PIM",
        "outputId": "a1834621-442a-4f2d-8e10-b9fe85bf77a5"
      },
      "execution_count": null,
      "outputs": [
        {
          "output_type": "stream",
          "name": "stdout",
          "text": [
            "Attempt to divide by zero\n"
          ]
        }
      ]
    },
    {
      "cell_type": "code",
      "source": [
        "try:\n",
        "    x\n",
        "\n",
        "except ZeroDivisionError:\n",
        "  print('Attempt to divide by zero')\n",
        "except NameError:\n",
        "  print('Act in accordance with name error')\n",
        "except:\n",
        "  print('Something else went wrong')"
      ],
      "metadata": {
        "colab": {
          "base_uri": "https://localhost:8080/"
        },
        "id": "zO8U11z5_PNu",
        "outputId": "eee07128-8a12-4a70-a444-926377bc7b46"
      },
      "execution_count": null,
      "outputs": [
        {
          "output_type": "stream",
          "name": "stdout",
          "text": [
            "Act in accordance with name error\n"
          ]
        }
      ]
    },
    {
      "cell_type": "code",
      "source": [
        "try:\n",
        "    x = int('on')\n",
        "except ZeroDivisionError:\n",
        "  print('Attempt to divide by zero')\n",
        "except NameError:\n",
        "  print('Act in accordance with name error')\n",
        "except (ValueError):\n",
        "  print('Act in accordance with value error')\n",
        "except:\n",
        "  print('Something else went wrong')"
      ],
      "metadata": {
        "colab": {
          "base_uri": "https://localhost:8080/"
        },
        "id": "de6303Nk_PVj",
        "outputId": "e6b7dcd3-c6ed-4114-dd14-328b4149de59"
      },
      "execution_count": null,
      "outputs": [
        {
          "output_type": "stream",
          "name": "stdout",
          "text": [
            "Act in accordance with value error\n"
          ]
        }
      ]
    },
    {
      "cell_type": "code",
      "source": [
        "try:\n",
        "    4 + '4'\n",
        "except ZeroDivisionError:\n",
        "  print('Attempt to divide by zero')\n",
        "except NameError:\n",
        "  print('Act in accordance with name error')\n",
        "except (ValueError, TypeError):\n",
        "  print('Act in accordance with value and type error')\n",
        "except:\n",
        "  print('Something else went wrong')"
      ],
      "metadata": {
        "colab": {
          "base_uri": "https://localhost:8080/"
        },
        "id": "WOltiOqI_PdA",
        "outputId": "48459f5c-99eb-4ea0-fc85-347226b93d09"
      },
      "execution_count": null,
      "outputs": [
        {
          "output_type": "stream",
          "name": "stdout",
          "text": [
            "Act in accordance with value and type error\n"
          ]
        }
      ]
    },
    {
      "cell_type": "code",
      "source": [
        "try:\n",
        "    5 / 0\n",
        "except ArithmeticError:   #except hiecrarchy zerodivisionerror Aritmeticerror'ün altında\n",
        "  print('Attempt to divide by zero')\n",
        "except NameError:\n",
        "  print('Act in accordance with name error')\n",
        "except (ValueError, TypeError):\n",
        "  print('Act in accordance with value and type error')\n",
        "except:\n",
        "  print('Something else went wrong')"
      ],
      "metadata": {
        "colab": {
          "base_uri": "https://localhost:8080/"
        },
        "id": "lDxX-2za_Pkm",
        "outputId": "8a62fc12-b816-43e9-e515-343daed7764c"
      },
      "execution_count": null,
      "outputs": [
        {
          "output_type": "stream",
          "name": "stdout",
          "text": [
            "Attempt to divide by zero\n"
          ]
        }
      ]
    },
    {
      "cell_type": "code",
      "source": [
        "fruits = [\"banana\", \"mango\", \"pear\", \"apple\", \"kiwi\", \"grape\"]\n",
        "while True:\n",
        "  x < 6\n",
        "  try:\n",
        "    x = int(input(\"Enter your favorite fruit index \"))\n",
        "    print(\"Your favorite fruit is \", fruits[x])\n",
        "    break\n",
        "  except ValueError:\n",
        "    print(\"Integer value pls\")\n",
        "  except IndexError:\n",
        "    print(\"Pls give me sth below 6\")\n"
      ],
      "metadata": {
        "id": "nm908AJw2T6q",
        "outputId": "1f3bb5af-f40b-4cea-9d22-49bf112802c5",
        "colab": {
          "base_uri": "https://localhost:8080/"
        }
      },
      "execution_count": 8,
      "outputs": [
        {
          "output_type": "stream",
          "name": "stdout",
          "text": [
            "Enter your favorite fruit index iki\n",
            "Integer value pls\n",
            "Enter your favorite fruit index beş\n",
            "Integer value pls\n",
            "Enter your favorite fruit index 8\n",
            "Pls give me sth below 6\n",
            "Enter your favorite fruit index 3\n",
            "Your favorite fruit is  apple\n"
          ]
        }
      ]
    },
    {
      "cell_type": "code",
      "source": [
        "fruits = [\"banana\", \"mango\", \"pear\", \"apple\", \"kiwi\", \"grape\"]\n",
        "while True :\n",
        "  try :\n",
        "    x = int(input(\"Pls select you fruit index :\"))\n",
        "    print(\"My favorite fruit is :\", fruits[x])\n",
        "    break\n",
        "  except IndexError:\n",
        "    print(\"There is no such an index. Invalid entrance. Try again!\")\n",
        "  except ValueError:\n",
        "    print(\"Try again and enter an integer value. Try again!\")\n"
      ],
      "metadata": {
        "colab": {
          "base_uri": "https://localhost:8080/"
        },
        "id": "ctGBruRb_VTP",
        "outputId": "f07ced89-d8e1-435a-f50e-b4de3857f66f"
      },
      "execution_count": null,
      "outputs": [
        {
          "output_type": "stream",
          "name": "stdout",
          "text": [
            "Pls select you fruit index :9\n",
            "There is no such an index. Invalid entrance. Try again!\n",
            "Pls select you fruit index :dört\n",
            "Try again and enter an integer value number. Try again!\n",
            "Pls select you fruit index :5\n",
            "My favorite fruit is : grape\n"
          ]
        }
      ]
    },
    {
      "cell_type": "code",
      "source": [
        "fruits = [\"banana\", \"mango\", \"pear\", \"apple\", \"kiwi\", \"grape\"]\n",
        "z = 1\n",
        "while z <=3 :\n",
        "  z += 1\n",
        "  try :\n",
        "    x = int(input(\"Pls select you fruit index :\"))\n",
        "    print(\"Congrats! You have entered a valid input\", fruits[x])\n",
        "    break\n",
        "  except IndexError:\n",
        "    print(\"There is no such an index. Invalid entrance. Try again!\")\n",
        "  except ValueError:\n",
        "    print(\"Try again and enter an integer value. Try again!\")\n",
        "  finally :\n",
        "    print('Our fruits are always fresh')"
      ],
      "metadata": {
        "colab": {
          "base_uri": "https://localhost:8080/"
        },
        "id": "crPANbKc_VX8",
        "outputId": "c55c539f-3124-4bae-c95b-5c014ac5926c"
      },
      "execution_count": null,
      "outputs": [
        {
          "output_type": "stream",
          "name": "stdout",
          "text": [
            "Pls select you fruit index :4\n",
            "Congrats! You have entered a valid input kiwi\n",
            "Our fruits are always fresh\n"
          ]
        }
      ]
    },
    {
      "cell_type": "code",
      "source": [
        "fruits = [\"banana\", \"mango\", \"pear\", \"apple\", \"kiwi\", \"grape\"]\n",
        "counter = 3\n",
        "while counter > 0 :\n",
        "\n",
        "  try :\n",
        "    print(f\"You have {counter} right left. Try again!\")\n",
        "    index = int(input(\"picka select you fruit index :\"))\n",
        "    print(\"Your favorite fruit is\", fruits[index])\n",
        "    \n",
        "  except IndexError:\n",
        "    counter -= 1\n",
        "    print(f\"Index error. You have {} right left. Try again!\")\n",
        "  except ValueError:\n",
        "    print(\"Try again and enter an integer value. Try again!\")\n",
        "  else:\n",
        "    print(\"Congrats! You have entered a valid input\")\n",
        "    break\n",
        "  finally :\n",
        "    print('Our fruits are always fresh')"
      ],
      "metadata": {
        "id": "Cae_btO8_VcL"
      },
      "execution_count": null,
      "outputs": []
    },
    {
      "cell_type": "code",
      "source": [
        "# Girilen değerin karakterlerini adetleri ile dict'e yazdıran kodlama\n",
        "sozluk = {}\n",
        "girdi = input(\" Hadi Bir Şeyler Yaz ! ! ! \").lower()\n",
        "for i in girdi:\n",
        "  sozluk.setdefault(i,(girdi.count(i)))\n",
        "print(sozluk)"
      ],
      "metadata": {
        "colab": {
          "base_uri": "https://localhost:8080/"
        },
        "id": "dSuLUWt0e28F",
        "outputId": "4f1f47a8-fcba-4c79-bee8-d5acdf7f1b31"
      },
      "execution_count": null,
      "outputs": [
        {
          "output_type": "stream",
          "name": "stdout",
          "text": [
            " Hadi Bir Şeyler Yaz ! ! ! var ya\n",
            "{'v': 1, 'a': 2, 'r': 1, ' ': 1, 'y': 1}\n"
          ]
        }
      ]
    },
    {
      "cell_type": "code",
      "source": [
        "tipler = [\"int\", \"str\", \"bool\", \"list\", \"tuple\", \"dict\", \"set\"]"
      ],
      "metadata": {
        "id": "SZoVOo1__VfA"
      },
      "execution_count": null,
      "outputs": []
    },
    {
      "cell_type": "code",
      "source": [
        "veri = [\"a\", \"b\", True, (False, 1), {\"1\" : 2}, [1,2], {\"2\" : \"two\"}, {2, \"3\"}, \"c\", 23, 0]"
      ],
      "metadata": {
        "id": "jPeDFfmJ_V2D"
      },
      "execution_count": null,
      "outputs": []
    },
    {
      "cell_type": "code",
      "source": [
        "{}.fromkeys(tipler, 0)"
      ],
      "metadata": {
        "colab": {
          "base_uri": "https://localhost:8080/"
        },
        "id": "IVDI_vPS_V6C",
        "outputId": "0b4fa386-4925-4196-d353-275abc38a4a5"
      },
      "execution_count": null,
      "outputs": [
        {
          "output_type": "execute_result",
          "data": {
            "text/plain": [
              "{'bool': 0, 'dict': 0, 'int': 0, 'list': 0, 'set': 0, 'str': 0, 'tuple': 0}"
            ]
          },
          "metadata": {},
          "execution_count": 19
        }
      ]
    },
    {
      "cell_type": "code",
      "source": [
        "toplam = {}.fromkeys(tipler, 0)"
      ],
      "metadata": {
        "id": "WmD0C-tTfXNv"
      },
      "execution_count": null,
      "outputs": []
    },
    {
      "cell_type": "code",
      "source": [
        "len(veri)"
      ],
      "metadata": {
        "colab": {
          "base_uri": "https://localhost:8080/"
        },
        "id": "4o7Th-eOfXMG",
        "outputId": "4421f2ae-60fc-423d-e6a2-c989415686ae"
      },
      "execution_count": null,
      "outputs": [
        {
          "output_type": "execute_result",
          "data": {
            "text/plain": [
              "11"
            ]
          },
          "metadata": {},
          "execution_count": 21
        }
      ]
    },
    {
      "cell_type": "code",
      "source": [
        "type(veri[0])"
      ],
      "metadata": {
        "colab": {
          "base_uri": "https://localhost:8080/"
        },
        "id": "FXy1Itx4fXHG",
        "outputId": "44d1eac0-6079-4f8d-f4ba-6e59c77169e3"
      },
      "execution_count": null,
      "outputs": [
        {
          "output_type": "execute_result",
          "data": {
            "text/plain": [
              "str"
            ]
          },
          "metadata": {},
          "execution_count": 22
        }
      ]
    },
    {
      "cell_type": "code",
      "source": [
        "type(veri[5]) == list"
      ],
      "metadata": {
        "colab": {
          "base_uri": "https://localhost:8080/"
        },
        "id": "qWrj16uCfXEJ",
        "outputId": "fedf1f7c-dee8-4f15-dec7-3bf6ad0d72a3"
      },
      "execution_count": null,
      "outputs": [
        {
          "output_type": "execute_result",
          "data": {
            "text/plain": [
              "True"
            ]
          },
          "metadata": {},
          "execution_count": 24
        }
      ]
    },
    {
      "cell_type": "code",
      "source": [
        "type(veri[5]) == str"
      ],
      "metadata": {
        "colab": {
          "base_uri": "https://localhost:8080/"
        },
        "id": "j0gNw1Lkfytq",
        "outputId": "6aa65814-086b-41a7-af3a-43c905558de8"
      },
      "execution_count": null,
      "outputs": [
        {
          "output_type": "execute_result",
          "data": {
            "text/plain": [
              "False"
            ]
          },
          "metadata": {},
          "execution_count": 25
        }
      ]
    },
    {
      "cell_type": "code",
      "source": [
        "for i in range(len(veri)) :\n",
        "  if type(veri[i]) == int : toplam[\"int\"] += 1\n",
        "  elif type(veri[i]) == str : toplam[\"str\"] += 1\n",
        "  elif type(veri[i]) == bool : toplam[\"bool\"] += 1\n",
        "  elif type(veri[i]) == list : toplam[\"list\"] += 1\n",
        "  elif type(veri[i]) == tuple : toplam[\"tuple\"] += 1\n",
        "  elif type(veri[i]) == dict : toplam[\"dict\"] += 1\n",
        "  elif type(veri[i]) == set : toplam[\"set\"] += 1\n",
        "print(toplam)"
      ],
      "metadata": {
        "colab": {
          "base_uri": "https://localhost:8080/"
        },
        "id": "IHPf4c95gqu1",
        "outputId": "b84f30db-3206-47a5-b4e8-13fd3a184ff5"
      },
      "execution_count": null,
      "outputs": [
        {
          "output_type": "stream",
          "name": "stdout",
          "text": [
            "{'int': 12, 'str': 6, 'bool': 2, 'list': 2, 'tuple': 2, 'dict': 4, 'set': 2}\n"
          ]
        }
      ]
    },
    {
      "cell_type": "code",
      "source": [
        "import os"
      ],
      "metadata": {
        "id": "kZynphjjgqoJ"
      },
      "execution_count": null,
      "outputs": []
    },
    {
      "cell_type": "code",
      "source": [
        "pwd"
      ],
      "metadata": {
        "colab": {
          "base_uri": "https://localhost:8080/",
          "height": 35
        },
        "id": "9Yiv2BCggqlk",
        "outputId": "da67a3eb-e02b-441d-be9a-018ec47e713c"
      },
      "execution_count": null,
      "outputs": [
        {
          "output_type": "execute_result",
          "data": {
            "application/vnd.google.colaboratory.intrinsic+json": {
              "type": "string"
            },
            "text/plain": [
              "'/content'"
            ]
          },
          "metadata": {},
          "execution_count": 37
        }
      ]
    },
    {
      "cell_type": "code",
      "source": [
        "dosya_listesi = os.listdir()\n",
        "dosya_listesi"
      ],
      "metadata": {
        "colab": {
          "base_uri": "https://localhost:8080/"
        },
        "id": "zgu3jADxkBfy",
        "outputId": "119b8a2a-9b34-4a35-ba57-c01b98c19aaa"
      },
      "execution_count": null,
      "outputs": [
        {
          "output_type": "execute_result",
          "data": {
            "text/plain": [
              "['.config', 'sample_data']"
            ]
          },
          "metadata": {},
          "execution_count": 39
        }
      ]
    },
    {
      "cell_type": "code",
      "source": [
        "import shutil"
      ],
      "metadata": {
        "id": "8enwN7Oxgqiu"
      },
      "execution_count": null,
      "outputs": []
    },
    {
      "cell_type": "code",
      "source": [
        "shutil.make_archive(\"\")"
      ],
      "metadata": {
        "id": "RfJyOOOvgqa8"
      },
      "execution_count": null,
      "outputs": []
    },
    {
      "cell_type": "code",
      "source": [
        ""
      ],
      "metadata": {
        "id": "vZTe5lSpgqQa"
      },
      "execution_count": null,
      "outputs": []
    },
    {
      "cell_type": "code",
      "source": [
        ""
      ],
      "metadata": {
        "id": "mvQuNUEifyoz"
      },
      "execution_count": null,
      "outputs": []
    },
    {
      "cell_type": "code",
      "source": [
        ""
      ],
      "metadata": {
        "id": "yJrxFzpmfymE"
      },
      "execution_count": null,
      "outputs": []
    }
  ]
}