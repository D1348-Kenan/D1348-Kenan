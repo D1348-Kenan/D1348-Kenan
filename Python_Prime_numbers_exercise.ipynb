{
  "nbformat": 4,
  "nbformat_minor": 0,
  "metadata": {
    "colab": {
      "name": "Python_Prime numbers_exercise.ipynb",
      "provenance": [],
      "authorship_tag": "ABX9TyMlkXAPNy0UAcIKjoK/n8x2",
      "include_colab_link": true
    },
    "kernelspec": {
      "name": "python3",
      "display_name": "Python 3"
    },
    "language_info": {
      "name": "python"
    }
  },
  "cells": [
    {
      "cell_type": "markdown",
      "metadata": {
        "id": "view-in-github",
        "colab_type": "text"
      },
      "source": [
        "<a href=\"https://colab.research.google.com/github/D1348-Kenan/D1348-Kenan/blob/main/Python_Prime_numbers_exercise.ipynb\" target=\"_parent\"><img src=\"https://colab.research.google.com/assets/colab-badge.svg\" alt=\"Open In Colab\"/></a>"
      ]
    },
    {
      "cell_type": "code",
      "metadata": {
        "colab": {
          "base_uri": "https://localhost:8080/"
        },
        "id": "MOuAzs2t-xKn",
        "outputId": "fade0872-1950-4608-8007-171d0062b748"
      },
      "source": [
        "number = int(input(\"Pozitif bir sayı giriniz : \"))\n",
        "count = 0\n",
        "\n",
        "for i in range(1, number+1) :\n",
        "  if number % i == 0 :\n",
        "    count += 1\n",
        "\n",
        "if (number == 0) or (number == 1) or (count >= 3) :\n",
        "  print(number, \"is not a Prime number\")\n",
        "\n",
        "else:\n",
        "  print(number, \"is a Prime number\")"
      ],
      "execution_count": 3,
      "outputs": [
        {
          "output_type": "stream",
          "name": "stdout",
          "text": [
            "Pozitif bir sayı giriniz : 6\n",
            "6 is not a Prime number\n"
          ]
        }
      ]
    },
    {
      "cell_type": "code",
      "metadata": {
        "id": "R7ILKdXt_Igf"
      },
      "source": [
        ""
      ],
      "execution_count": null,
      "outputs": []
    },
    {
      "cell_type": "code",
      "metadata": {
        "id": "9Qbx7QPl_In9"
      },
      "source": [
        ""
      ],
      "execution_count": null,
      "outputs": []
    }
  ]
}