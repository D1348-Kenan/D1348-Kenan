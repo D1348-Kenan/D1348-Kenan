{
  "nbformat": 4,
  "nbformat_minor": 0,
  "metadata": {
    "colab": {
      "name": "04.11.2021 Python inclass ders notlarım.ipynb",
      "provenance": [],
      "collapsed_sections": [],
      "authorship_tag": "ABX9TyPumFmbtiqYT/dPXSZwEyVj",
      "include_colab_link": true
    },
    "kernelspec": {
      "name": "python3",
      "display_name": "Python 3"
    },
    "language_info": {
      "name": "python"
    }
  },
  "cells": [
    {
      "cell_type": "markdown",
      "metadata": {
        "id": "view-in-github",
        "colab_type": "text"
      },
      "source": [
        "<a href=\"https://colab.research.google.com/github/D1348-Kenan/D1348-Kenan/blob/main/04_11_2021_Python_inclass_ders_notlar%C4%B1m.ipynb\" target=\"_parent\"><img src=\"https://colab.research.google.com/assets/colab-badge.svg\" alt=\"Open In Colab\"/></a>"
      ]
    },
    {
      "cell_type": "code",
      "metadata": {
        "id": "_v7tzX8vDl9p"
      },
      "source": [
        "a = set(\"philadelphia\")\n",
        "b = set(\"dolphin\")\n"
      ],
      "execution_count": 5,
      "outputs": []
    },
    {
      "cell_type": "code",
      "metadata": {
        "colab": {
          "base_uri": "https://localhost:8080/"
        },
        "id": "2_yis3scGKFf",
        "outputId": "91b83d85-beac-4d83-b3eb-a935427528e2"
      },
      "source": [
        "b - a"
      ],
      "execution_count": 6,
      "outputs": [
        {
          "output_type": "execute_result",
          "data": {
            "text/plain": [
              "{'n', 'o'}"
            ]
          },
          "metadata": {},
          "execution_count": 6
        }
      ]
    },
    {
      "cell_type": "code",
      "metadata": {
        "colab": {
          "base_uri": "https://localhost:8080/"
        },
        "id": "RGU993C_GKT_",
        "outputId": "55a35932-60f5-4412-ae45-7b695ed69678"
      },
      "source": [
        "print(b.difference(a)) "
      ],
      "execution_count": 7,
      "outputs": [
        {
          "output_type": "stream",
          "name": "stdout",
          "text": [
            "{'n', 'o'}\n"
          ]
        }
      ]
    },
    {
      "cell_type": "code",
      "metadata": {
        "colab": {
          "base_uri": "https://localhost:8080/"
        },
        "id": "t_oTG8oHGKdc",
        "outputId": "7e245fb2-e23d-41d0-f80e-66806e1a8115"
      },
      "source": [
        "print(a.union(b))"
      ],
      "execution_count": 8,
      "outputs": [
        {
          "output_type": "stream",
          "name": "stdout",
          "text": [
            "{'h', 'o', 'd', 'i', 'e', 'n', 'p', 'a', 'l'}\n"
          ]
        }
      ]
    },
    {
      "cell_type": "code",
      "metadata": {
        "colab": {
          "base_uri": "https://localhost:8080/"
        },
        "id": "PpYWq0zwGKiV",
        "outputId": "6b0ab398-de26-4d72-ba80-3280a4a07a21"
      },
      "source": [
        "print(b.union(a))"
      ],
      "execution_count": 9,
      "outputs": [
        {
          "output_type": "stream",
          "name": "stdout",
          "text": [
            "{'h', 'o', 'd', 'i', 'e', 'n', 'p', 'a', 'l'}\n"
          ]
        }
      ]
    },
    {
      "cell_type": "code",
      "metadata": {
        "id": "ZV0O_D-rGKmz"
      },
      "source": [
        "usa = set(\"washington\")"
      ],
      "execution_count": 11,
      "outputs": []
    },
    {
      "cell_type": "code",
      "metadata": {
        "id": "__cRuajCGKqt"
      },
      "source": [
        "nz = set(\"wellington\")"
      ],
      "execution_count": 12,
      "outputs": []
    },
    {
      "cell_type": "code",
      "metadata": {
        "colab": {
          "base_uri": "https://localhost:8080/"
        },
        "id": "GXd_UpCCGKuL",
        "outputId": "91f02b65-cbef-406e-c7e2-6e3630c41b02"
      },
      "source": [
        "usa - nz"
      ],
      "execution_count": 13,
      "outputs": [
        {
          "output_type": "execute_result",
          "data": {
            "text/plain": [
              "{'a', 'h', 's'}"
            ]
          },
          "metadata": {},
          "execution_count": 13
        }
      ]
    },
    {
      "cell_type": "code",
      "metadata": {
        "colab": {
          "base_uri": "https://localhost:8080/"
        },
        "id": "csZien0JGKzK",
        "outputId": "568728d7-d4c6-49fe-b3e3-02754aa1347b"
      },
      "source": [
        "nz - usa"
      ],
      "execution_count": 14,
      "outputs": [
        {
          "output_type": "execute_result",
          "data": {
            "text/plain": [
              "{'e', 'l'}"
            ]
          },
          "metadata": {},
          "execution_count": 14
        }
      ]
    },
    {
      "cell_type": "code",
      "metadata": {
        "colab": {
          "base_uri": "https://localhost:8080/"
        },
        "id": "5D_SwSrFGK2g",
        "outputId": "41720018-9cde-4b56-e74d-87bbfceb0397"
      },
      "source": [
        "usa & nz"
      ],
      "execution_count": 15,
      "outputs": [
        {
          "output_type": "execute_result",
          "data": {
            "text/plain": [
              "{'g', 'i', 'n', 'o', 't', 'w'}"
            ]
          },
          "metadata": {},
          "execution_count": 15
        }
      ]
    },
    {
      "cell_type": "code",
      "metadata": {
        "colab": {
          "base_uri": "https://localhost:8080/"
        },
        "id": "MiVYqEJxGK3l",
        "outputId": "c1ef5d38-a13a-4961-f289-9d7374668a0f"
      },
      "source": [
        "usa | nz"
      ],
      "execution_count": 16,
      "outputs": [
        {
          "output_type": "execute_result",
          "data": {
            "text/plain": [
              "{'a', 'e', 'g', 'h', 'i', 'l', 'n', 'o', 's', 't', 'w'}"
            ]
          },
          "metadata": {},
          "execution_count": 16
        }
      ]
    },
    {
      "cell_type": "code",
      "metadata": {
        "colab": {
          "base_uri": "https://localhost:8080/"
        },
        "id": "sMURRry0GK6r",
        "outputId": "0f543f48-683e-4fc5-dc2f-c2a8aeca2370"
      },
      "source": [
        "print(usa.intersection(nz))"
      ],
      "execution_count": 17,
      "outputs": [
        {
          "output_type": "stream",
          "name": "stdout",
          "text": [
            "{'w', 't', 'o', 'i', 'n', 'g'}\n"
          ]
        }
      ]
    },
    {
      "cell_type": "code",
      "metadata": {
        "id": "gLnrryonGK91"
      },
      "source": [
        "CONTROL FLOW STATEMENTS"
      ],
      "execution_count": null,
      "outputs": []
    },
    {
      "cell_type": "code",
      "metadata": {
        "id": "kjIAjcixGLBO"
      },
      "source": [
        "sayılar = [1,2,3,4,5]"
      ],
      "execution_count": 18,
      "outputs": []
    },
    {
      "cell_type": "code",
      "metadata": {
        "colab": {
          "base_uri": "https://localhost:8080/"
        },
        "id": "djs7SIiLGLEb",
        "outputId": "b73f89f9-3bd4-483f-e6e1-37d32087951c"
      },
      "source": [
        "print(sayılar[0])"
      ],
      "execution_count": 19,
      "outputs": [
        {
          "output_type": "stream",
          "name": "stdout",
          "text": [
            "1\n"
          ]
        }
      ]
    },
    {
      "cell_type": "code",
      "metadata": {
        "id": "vmYAcoz-GLHu"
      },
      "source": [
        "HAMBURGER TASK"
      ],
      "execution_count": null,
      "outputs": []
    },
    {
      "cell_type": "code",
      "metadata": {
        "id": "8eC0ctxDGLLj"
      },
      "source": [
        "minced = True\n",
        "bread = True\n",
        "\n",
        "#green\n",
        "lettuce = True\n",
        "onion = True\n",
        "\n",
        "grocer = True"
      ],
      "execution_count": 20,
      "outputs": []
    },
    {
      "cell_type": "code",
      "metadata": {
        "id": "W57JOzkaGLQK"
      },
      "source": [
        "hamburger = (minced and grocer and bread) and (lettuce or onion)"
      ],
      "execution_count": 22,
      "outputs": []
    },
    {
      "cell_type": "code",
      "metadata": {
        "colab": {
          "base_uri": "https://localhost:8080/"
        },
        "id": "BndiabBjGLSo",
        "outputId": "a8d9c17e-51c4-4b30-cbf8-f20392afb86b"
      },
      "source": [
        "hamburger"
      ],
      "execution_count": 23,
      "outputs": [
        {
          "output_type": "execute_result",
          "data": {
            "text/plain": [
              "True"
            ]
          },
          "metadata": {},
          "execution_count": 23
        }
      ]
    },
    {
      "cell_type": "code",
      "metadata": {
        "colab": {
          "base_uri": "https://localhost:8080/"
        },
        "id": "i9-3sVzbGLo0",
        "outputId": "37b11d21-3e76-49e4-e88a-0da767429934"
      },
      "source": [
        "if hamburger :\n",
        "  print(\"Bon appetit\")"
      ],
      "execution_count": 24,
      "outputs": [
        {
          "output_type": "stream",
          "name": "stdout",
          "text": [
            "Bon appetit\n"
          ]
        }
      ]
    },
    {
      "cell_type": "code",
      "metadata": {
        "id": "zzkuYVr6GLy0"
      },
      "source": [
        "set1 = set(\"TWELVE PLUS ONE\")\n",
        "set2 = set(\"ELEVEN PLUS TWO\")"
      ],
      "execution_count": 26,
      "outputs": []
    },
    {
      "cell_type": "code",
      "metadata": {
        "colab": {
          "base_uri": "https://localhost:8080/"
        },
        "id": "pAw-Gs8Sc21I",
        "outputId": "6d83d3e3-c85e-43a9-9f16-2850bcbf7857"
      },
      "source": [
        "if set1 == set2:\n",
        "  print(\"We are the same!\")"
      ],
      "execution_count": 28,
      "outputs": [
        {
          "output_type": "stream",
          "name": "stdout",
          "text": [
            "We are the same!\n"
          ]
        }
      ]
    },
    {
      "cell_type": "code",
      "metadata": {
        "colab": {
          "base_uri": "https://localhost:8080/"
        },
        "id": "XGljsMSVc2xW",
        "outputId": "5aaa78dd-d702-463f-a2ea-5ae606d2dc54"
      },
      "source": [
        "print(f\"You entered {input('Enter Yes or No :').title().strip() == 'Yes'}\")"
      ],
      "execution_count": 33,
      "outputs": [
        {
          "output_type": "stream",
          "name": "stdout",
          "text": [
            "Enter Yes or No :yes\n",
            "You entered True\n"
          ]
        }
      ]
    },
    {
      "cell_type": "code",
      "metadata": {
        "colab": {
          "base_uri": "https://localhost:8080/"
        },
        "id": "PHxLJlyhc2tt",
        "outputId": "739a1e01-280e-4507-aa57-e5b67f38ed17"
      },
      "source": [
        "print(\"You entered {}\".format(input(\"Yes or No: \").title().strip() == \"Yes\"))"
      ],
      "execution_count": 34,
      "outputs": [
        {
          "output_type": "stream",
          "name": "stdout",
          "text": [
            "Yes or No: yes\n",
            "You entered True\n"
          ]
        }
      ]
    },
    {
      "cell_type": "code",
      "metadata": {
        "colab": {
          "base_uri": "https://localhost:8080/"
        },
        "id": "343r0bhYc2rZ",
        "outputId": "47a6fcd5-7180-4f03-b284-0611f4294de5"
      },
      "source": [
        "sayı_gir = int(input(\"Enter a number: \"))\n",
        "if sayı_gir % 2 == 0:\n",
        "  print(\"Even\")\n",
        "else:\n",
        "  print(\"Odd\")\n"
      ],
      "execution_count": 37,
      "outputs": [
        {
          "output_type": "stream",
          "name": "stdout",
          "text": [
            "Enter a number: 6\n",
            "Even\n"
          ]
        }
      ]
    },
    {
      "cell_type": "code",
      "metadata": {
        "colab": {
          "base_uri": "https://localhost:8080/"
        },
        "id": "6Ah9q_0qc2nM",
        "outputId": "9af9aca2-b583-4519-8f9a-edc9a2675337"
      },
      "source": [
        "sayı = float(input(\"Enter pos or neg number : \"))\n",
        "if sayı > 0 :\n",
        "    print(\"You entered pos number\")\n",
        "else : \n",
        "    print(\"You entered neg number\")"
      ],
      "execution_count": 39,
      "outputs": [
        {
          "output_type": "stream",
          "name": "stdout",
          "text": [
            "Enter pos or neg number : -6\n",
            "You entered neg number\n"
          ]
        }
      ]
    },
    {
      "cell_type": "code",
      "metadata": {
        "colab": {
          "base_uri": "https://localhost:8080/"
        },
        "id": "s0OW6LO7c2jo",
        "outputId": "4eacf394-1be3-47f5-e9cb-3126fe21555e"
      },
      "source": [
        "num1 = float(input(\"Pls enter first number: \"))\n",
        "num2 = float(input(\"Pls enter second number: \"))\n",
        "if num1 > num2 :\n",
        "  larger = num1\n",
        "else :\n",
        "  larger = num2\n",
        "print(\"The larger number is\", larger)"
      ],
      "execution_count": 47,
      "outputs": [
        {
          "output_type": "stream",
          "name": "stdout",
          "text": [
            "Pls enter first number: 9\n",
            "Pls enter second number: 6\n",
            "The larger number is 9.0\n"
          ]
        }
      ]
    },
    {
      "cell_type": "code",
      "metadata": {
        "id": "H8iFpzzqc2fV"
      },
      "source": [
        "num1 = int(input(\"Enter number 1:\"))\n",
        "num2 = int(input(\"Enter number 2:\"))\n",
        "if num1 > num2 :\n",
        "    print(\"The large number is\", num1)\n",
        "else :\n",
        "    print(\"The large number is\", num2)"
      ],
      "execution_count": null,
      "outputs": []
    },
    {
      "cell_type": "code",
      "metadata": {
        "id": "PCmOW_XVc2cW"
      },
      "source": [
        ""
      ],
      "execution_count": null,
      "outputs": []
    },
    {
      "cell_type": "code",
      "metadata": {
        "id": "lh60l2r8c2Yb"
      },
      "source": [
        ""
      ],
      "execution_count": null,
      "outputs": []
    }
  ]
}