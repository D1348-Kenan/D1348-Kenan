{
  "nbformat": 4,
  "nbformat_minor": 0,
  "metadata": {
    "colab": {
      "name": "Task_Python for Loop_Odd and even.ipynb",
      "provenance": [],
      "authorship_tag": "ABX9TyMB1EpKyzd8zJrFTqInPn29",
      "include_colab_link": true
    },
    "kernelspec": {
      "name": "python3",
      "display_name": "Python 3"
    },
    "language_info": {
      "name": "python"
    }
  },
  "cells": [
    {
      "cell_type": "markdown",
      "metadata": {
        "id": "view-in-github",
        "colab_type": "text"
      },
      "source": [
        "<a href=\"https://colab.research.google.com/github/D1348-Kenan/D1348-Kenan/blob/main/Task_Python_for_Loop_Odd_and_even.ipynb\" target=\"_parent\"><img src=\"https://colab.research.google.com/assets/colab-badge.svg\" alt=\"Open In Colab\"/></a>"
      ]
    },
    {
      "cell_type": "markdown",
      "metadata": {
        "id": "bwrMqPh3bDto"
      },
      "source": [
        "Task: Python program to collect odd and even numbers in two different lists.\n",
        "  Write a program to choose and collect the even and odd numbers (1 to 10) in two different lsits."
      ]
    },
    {
      "cell_type": "code",
      "metadata": {
        "id": "3ZdPqs2Ia8CR"
      },
      "source": [
        "#Expected result \n",
        "# evens : [0, 2, 4, 6, 8]\n",
        "# odds : [1, 3, 5, 7, 9]"
      ],
      "execution_count": null,
      "outputs": []
    },
    {
      "cell_type": "code",
      "metadata": {
        "colab": {
          "base_uri": "https://localhost:8080/"
        },
        "id": "e04Hbilxa8Gt",
        "outputId": "f42be3bd-e81b-4c8b-e5b6-006465689a44"
      },
      "source": [
        "evens = []\n",
        "odds = []\n",
        "\n",
        "for n in range(10) :\n",
        "\n",
        "  if n % 2 == 0 :\n",
        "    evens.append(n)\n",
        "  else :\n",
        "    odds.append(n)\n",
        "\n",
        "print(\"evens : \", evens)\n",
        "print(\"odds : \", odds)"
      ],
      "execution_count": 3,
      "outputs": [
        {
          "output_type": "stream",
          "name": "stdout",
          "text": [
            "evens :  [0, 2, 4, 6, 8]\n",
            "odds :  [1, 3, 5, 7, 9]\n"
          ]
        }
      ]
    },
    {
      "cell_type": "code",
      "metadata": {
        "id": "RE5po2-hbsOS"
      },
      "source": [
        ""
      ],
      "execution_count": null,
      "outputs": []
    },
    {
      "cell_type": "code",
      "metadata": {
        "id": "f1jIijt0bsCt"
      },
      "source": [
        ""
      ],
      "execution_count": null,
      "outputs": []
    },
    {
      "cell_type": "code",
      "metadata": {
        "id": "9q-sMZ-tbr_q"
      },
      "source": [
        ""
      ],
      "execution_count": null,
      "outputs": []
    },
    {
      "cell_type": "code",
      "metadata": {
        "id": "XWsHLuTWbr8e"
      },
      "source": [
        ""
      ],
      "execution_count": null,
      "outputs": []
    },
    {
      "cell_type": "code",
      "metadata": {
        "id": "OfUtQLfqbr5B"
      },
      "source": [
        ""
      ],
      "execution_count": null,
      "outputs": []
    },
    {
      "cell_type": "code",
      "metadata": {
        "id": "XoKTj36zbr20"
      },
      "source": [
        ""
      ],
      "execution_count": null,
      "outputs": []
    },
    {
      "cell_type": "code",
      "metadata": {
        "id": "igPEh2PhbrwZ"
      },
      "source": [
        ""
      ],
      "execution_count": null,
      "outputs": []
    },
    {
      "cell_type": "code",
      "metadata": {
        "id": "GvvlUj6sbrtM"
      },
      "source": [
        ""
      ],
      "execution_count": null,
      "outputs": []
    },
    {
      "cell_type": "code",
      "metadata": {
        "id": "7g2sDHvZbrpq"
      },
      "source": [
        ""
      ],
      "execution_count": null,
      "outputs": []
    },
    {
      "cell_type": "code",
      "metadata": {
        "id": "taG3LifRbrmz"
      },
      "source": [
        ""
      ],
      "execution_count": null,
      "outputs": []
    },
    {
      "cell_type": "code",
      "metadata": {
        "id": "X4jstzIbbrfh"
      },
      "source": [
        ""
      ],
      "execution_count": null,
      "outputs": []
    }
  ]
}