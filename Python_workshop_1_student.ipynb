{
  "nbformat": 4,
  "nbformat_minor": 0,
  "metadata": {
    "kernelspec": {
      "name": "python3",
      "display_name": "Python 3.9.6 64-bit"
    },
    "language_info": {
      "codemirror_mode": {
        "name": "ipython",
        "version": 3
      },
      "file_extension": ".py",
      "mimetype": "text/x-python",
      "name": "python",
      "nbconvert_exporter": "python",
      "pygments_lexer": "ipython3",
      "version": "3.9.6"
    },
    "interpreter": {
      "hash": "468f25ad0239460415b7e6b7483d5c8f7213894121f6fb96c4cb6ef93fffe534"
    },
    "colab": {
      "name": "Python-workshop-1-student.ipynb",
      "provenance": [],
      "collapsed_sections": [],
      "include_colab_link": true
    }
  },
  "cells": [
    {
      "cell_type": "markdown",
      "metadata": {
        "id": "view-in-github",
        "colab_type": "text"
      },
      "source": [
        "<a href=\"https://colab.research.google.com/github/D1348-Kenan/D1348-Kenan/blob/main/Python_workshop_1_student.ipynb\" target=\"_parent\"><img src=\"https://colab.research.google.com/assets/colab-badge.svg\" alt=\"Open In Colab\"/></a>"
      ]
    },
    {
      "cell_type": "markdown",
      "metadata": {
        "id": "x5DMLel5uAFQ"
      },
      "source": [
        "<center><img src=\"https://github.com/aaron-clarusway/fullstack/blob/master/itf-logo.png?raw=true\"  alt=\"alt text\" width=\"200\"/></center>\n",
        "<br>\n",
        "<h1><p style=\"text-align: center; color:darkblue\">Python Basic</p><h1>\n",
        "<center><h1>Workshop - 1</h1></center>\n",
        "<p><img align=\"right\"\n",
        "  src=\"https://secure.meetupstatic.com/photos/event/3/1/b/9/600_488352729.jpeg\"  width=\"15px\"></p>\n",
        "<br>\n",
        "\n",
        "\n",
        "# Subject: Basic Data Types and Useful Operations\n",
        "\n",
        "## Learning Goals\n",
        "\n",
        "* to work with quotes in strings,\n",
        "* to practice basic data types,\n",
        "* to consolidate basic boolean operations."
      ]
    },
    {
      "cell_type": "markdown",
      "metadata": {
        "id": "TzFPu_qmuAFj"
      },
      "source": [
        "### Problem 1\n",
        "\n",
        "Write a program that multiplies three numbers entered by the user. Print the output with the format method."
      ]
    },
    {
      "cell_type": "code",
      "metadata": {
        "colab": {
          "base_uri": "https://localhost:8080/"
        },
        "id": "Fh9u-vfHuAFl",
        "outputId": "315f3e86-c7ab-471c-c601-9f15ccb9f4fb"
      },
      "source": [
        "x = (input(\"x:\"))\n",
        "y = int(input(\"y:\"))\n",
        "z = int(input(\"z:\"))\n",
        "result = x * y * z\n",
        "print(\"{}*{}*{} = {}\".format(x, y, z, result))"
      ],
      "execution_count": 10,
      "outputs": [
        {
          "output_type": "stream",
          "name": "stdout",
          "text": [
            "x:5\n",
            "y:4\n",
            "z:3\n",
            "5*4*3 = 60\n"
          ]
        }
      ]
    },
    {
      "cell_type": "markdown",
      "metadata": {
        "id": "kLa5M8F_uAFn"
      },
      "source": [
        "### Problem 2\n",
        "\n",
        "Write a program that calculates body mass index from **height** and **weight** entered by the user. \n",
        "\n",
        "Body mass index :  Weight / Height(m) * Height(m)"
      ]
    },
    {
      "cell_type": "code",
      "metadata": {
        "colab": {
          "base_uri": "https://localhost:8080/",
          "height": 253
        },
        "id": "GRpco_WbuAFo",
        "outputId": "7eab1286-cb85-45ca-e3bd-b36a0ed500d6"
      },
      "source": [
        "a = floatinput(\" Your height = \")\n",
        "b = input(\" Your weight = \")\n",
        "BMI = float(b)/(float(a**2))\n",
        "Print (BMI)"
      ],
      "execution_count": 16,
      "outputs": [
        {
          "name": "stdout",
          "output_type": "stream",
          "text": [
            " Your height = 1.69\n",
            " Your weight = 63\n"
          ]
        },
        {
          "output_type": "error",
          "ename": "TypeError",
          "evalue": "ignored",
          "traceback": [
            "\u001b[0;31m---------------------------------------------------------------------------\u001b[0m",
            "\u001b[0;31mTypeError\u001b[0m                                 Traceback (most recent call last)",
            "\u001b[0;32m<ipython-input-16-a9e01e485230>\u001b[0m in \u001b[0;36m<module>\u001b[0;34m()\u001b[0m\n\u001b[1;32m      1\u001b[0m \u001b[0ma\u001b[0m \u001b[0;34m=\u001b[0m \u001b[0minput\u001b[0m\u001b[0;34m(\u001b[0m\u001b[0;34m\" Your height = \"\u001b[0m\u001b[0;34m)\u001b[0m\u001b[0;34m\u001b[0m\u001b[0;34m\u001b[0m\u001b[0m\n\u001b[1;32m      2\u001b[0m \u001b[0mb\u001b[0m \u001b[0;34m=\u001b[0m \u001b[0minput\u001b[0m\u001b[0;34m(\u001b[0m\u001b[0;34m\" Your weight = \"\u001b[0m\u001b[0;34m)\u001b[0m\u001b[0;34m\u001b[0m\u001b[0;34m\u001b[0m\u001b[0m\n\u001b[0;32m----> 3\u001b[0;31m \u001b[0mBMI\u001b[0m \u001b[0;34m=\u001b[0m \u001b[0mfloat\u001b[0m\u001b[0;34m(\u001b[0m\u001b[0mb\u001b[0m\u001b[0;34m)\u001b[0m\u001b[0;34m/\u001b[0m\u001b[0;34m(\u001b[0m\u001b[0mfloat\u001b[0m\u001b[0;34m(\u001b[0m\u001b[0ma\u001b[0m\u001b[0;34m**\u001b[0m\u001b[0;36m2\u001b[0m\u001b[0;34m)\u001b[0m\u001b[0;34m)\u001b[0m\u001b[0;34m\u001b[0m\u001b[0;34m\u001b[0m\u001b[0m\n\u001b[0m\u001b[1;32m      4\u001b[0m \u001b[0mPrint\u001b[0m \u001b[0;34m(\u001b[0m\u001b[0mBMI\u001b[0m\u001b[0;34m)\u001b[0m\u001b[0;34m\u001b[0m\u001b[0;34m\u001b[0m\u001b[0m\n",
            "\u001b[0;31mTypeError\u001b[0m: unsupported operand type(s) for ** or pow(): 'str' and 'int'"
          ]
        }
      ]
    },
    {
      "cell_type": "markdown",
      "metadata": {
        "id": "eN_i6TXfuAFo"
      },
      "source": [
        "### Problem 3\n",
        "\n",
        "With your $ 200, how many pieces of material can you get for $ 11 each? How much money do you have left after buying?"
      ]
    },
    {
      "cell_type": "code",
      "metadata": {
        "colab": {
          "base_uri": "https://localhost:8080/"
        },
        "id": "dKG9d7YkuAFp",
        "outputId": "5f4d3adc-8536-42d9-f6df-cb82750c986d"
      },
      "source": [
        "print(\"adet:\", 200//11)\n",
        "print(\"Kalan para:\", 200 % 11)"
      ],
      "execution_count": 17,
      "outputs": [
        {
          "output_type": "stream",
          "name": "stdout",
          "text": [
            "adet: 18\n",
            "Kalan para: 2\n"
          ]
        }
      ]
    },
    {
      "cell_type": "markdown",
      "metadata": {
        "id": "LOWzC6auuAFq"
      },
      "source": [
        "### Problem 4\n",
        "\n",
        "Ask the user for two numbers and assign these numbers to variables and replace the values of these variables with each other."
      ]
    },
    {
      "cell_type": "code",
      "metadata": {
        "colab": {
          "base_uri": "https://localhost:8080/"
        },
        "id": "IzKe3jZNuAFs",
        "outputId": "70b2403f-2d4a-4c4c-e450-b0a67906b451"
      },
      "source": [
        "num1 = int(input(\"Enter first number: \"))\n",
        "num2 = int(input(\"Enter second number: \"))\n",
        "num1, num2 = num2, num1\n",
        "print(\"num1: \" , num1 , \", \" \"num2: \" , num2 )"
      ],
      "execution_count": 21,
      "outputs": [
        {
          "output_type": "stream",
          "name": "stdout",
          "text": [
            "Enter first number: 23\n",
            "Enter second number: 34\n",
            "num1:  34 , num2:  23\n"
          ]
        }
      ]
    },
    {
      "cell_type": "markdown",
      "metadata": {
        "id": "E1Qh2oSduAFv"
      },
      "source": [
        "### Problem 5\n",
        "\n",
        "Write a Python program to solve (x - y) * (x + y)."
      ]
    },
    {
      "cell_type": "code",
      "metadata": {
        "colab": {
          "base_uri": "https://localhost:8080/"
        },
        "id": "avkGp3uWuAFw",
        "outputId": "759da82e-193b-45cb-e9c6-712c891b2d8d"
      },
      "source": [
        "x = int(input(\"x değerini giriniz:\"))\n",
        "y = int(input(\"y değerini giriniz:\"))\n",
        "sonuc = (x**2 - y**2)\n",
        "print(sonuc)"
      ],
      "execution_count": 23,
      "outputs": [
        {
          "output_type": "stream",
          "name": "stdout",
          "text": [
            "x değerini giriniz:2\n",
            "y değerini giriniz:3\n",
            "-5\n"
          ]
        }
      ]
    },
    {
      "cell_type": "code",
      "metadata": {
        "colab": {
          "base_uri": "https://localhost:8080/"
        },
        "id": "0rUwfGwlT9XW",
        "outputId": "263cb673-aa46-4a92-c468-c191f6c1fee8"
      },
      "source": [
        "x, y = 4, 3\n",
        "result = x * x - y * y\n",
        "print(\"({} ^ 2 - {} ^ 2) = {}\".format(x, y, result))"
      ],
      "execution_count": 24,
      "outputs": [
        {
          "output_type": "stream",
          "name": "stdout",
          "text": [
            "(4 ^ 2 - 3 ^ 2) = 7\n"
          ]
        }
      ]
    },
    {
      "cell_type": "markdown",
      "metadata": {
        "id": "2QBOe5pruAFx"
      },
      "source": [
        "### Problem 6\n",
        "\n",
        "Get **word**, **seperator** and **repetition** values from the user and print the word on the screen according to the given values. \n",
        "\n",
        "Ex: ``word = ali, sep = /, repetition = 3`` ----> ``ali/ali/ali``"
      ]
    },
    {
      "cell_type": "code",
      "metadata": {
        "colab": {
          "base_uri": "https://localhost:8080/"
        },
        "id": "VvgtqVnNuAFy",
        "outputId": "27d71ab0-bf5a-47d6-dfa0-3ad7941ea7db"
      },
      "source": [
        "word = input(\"Type a word: \")\n",
        "seperator = input(\"Type a sign: \")\n",
        "rep = input(\"Type a number: \")\n",
        "rep = int(rep)\n",
        "print((word + seperator)*rep, 2 * \"\\b\")"
      ],
      "execution_count": 25,
      "outputs": [
        {
          "output_type": "stream",
          "name": "stdout",
          "text": [
            "Type a word: havza\n",
            "Type a sign: ^\n",
            "Type a number: 5\n",
            "havza^havza^havza^havza^havza^ \b\b\n"
          ]
        }
      ]
    },
    {
      "cell_type": "code",
      "metadata": {
        "colab": {
          "base_uri": "https://localhost:8080/"
        },
        "id": "qoVbYG5aVdWf",
        "outputId": "8419eb50-a879-44f9-ece7-5d61591e8325"
      },
      "source": [
        "kelime1 = input(\"kelime giriniz \")\n",
        "ayır = input(\"araya koymak istediğiniz şeyi girin \")\n",
        "tekrar = input(\"kaç tekrar istediğinizi girin \")\n",
        "kelime2 = kelime1+ayır\n",
        "tekrar = int(tekrar)-1\n",
        "print(tekrar*kelime2, kelime1, sep=\"\")"
      ],
      "execution_count": 26,
      "outputs": [
        {
          "output_type": "stream",
          "name": "stdout",
          "text": [
            "kelime giriniz Ali\n",
            "araya koymak istediğiniz şeyi girin &\n",
            "kaç tekrar istediğinizi girin 3\n",
            "Ali&Ali&Ali\n"
          ]
        }
      ]
    },
    {
      "cell_type": "markdown",
      "metadata": {
        "id": "7ivFrI_puAFz"
      },
      "source": [
        "### Problem 7\n",
        "\n",
        ">Do not run the code, try to figure out in your mind.\n",
        "\n",
        "What will be the output of the following syntax :\n",
        "\n",
        "```python\n",
        "print(True and False and (not True and False) and not (True or False))\n",
        "```"
      ]
    },
    {
      "cell_type": "code",
      "metadata": {
        "colab": {
          "base_uri": "https://localhost:8080/"
        },
        "id": "JI4krxNTuAF0",
        "outputId": "7a51894b-2880-4256-c33a-183462c5d704"
      },
      "source": [
        "print(True and False and (not True and False) and not (True or False))"
      ],
      "execution_count": 7,
      "outputs": [
        {
          "output_type": "stream",
          "name": "stdout",
          "text": [
            "False\n"
          ]
        }
      ]
    },
    {
      "cell_type": "markdown",
      "metadata": {
        "id": "wJlAZd6fuAF0"
      },
      "source": [
        "### Problem 8\n",
        "\n",
        ">Do not run the code, try to figure out in your mind.\n",
        "\n",
        "What will be the output of the following syntax :\n",
        "\n",
        "```python\n",
        "print(True and False and not \"False\" and None and (\"None\" or None))\n",
        "```"
      ]
    },
    {
      "cell_type": "code",
      "metadata": {
        "colab": {
          "base_uri": "https://localhost:8080/"
        },
        "id": "1vvNSDAuuAF1",
        "outputId": "26b4045f-d317-4fd6-d756-73d056682d7b"
      },
      "source": [
        "print(True and False and not \"False\" and None and (\"None\" or None))"
      ],
      "execution_count": 8,
      "outputs": [
        {
          "output_type": "stream",
          "name": "stdout",
          "text": [
            "False\n"
          ]
        }
      ]
    },
    {
      "cell_type": "markdown",
      "metadata": {
        "id": "qmg21XcXuAF2"
      },
      "source": [
        "### Problem 9\n",
        "\n",
        ">Do not run the code, try to figure out in your mind.\n",
        "\n",
        "What will be the output of the following syntax :\n",
        "\n",
        "```python\n",
        "print(\"clarusway\" and 0 and not \"\" and False and (\" \" or None))\n",
        "```"
      ]
    },
    {
      "cell_type": "code",
      "metadata": {
        "colab": {
          "base_uri": "https://localhost:8080/"
        },
        "id": "gfv2jWbcuAF4",
        "outputId": "9f9ec520-c6a7-47c2-cbe9-49cf85ccaf5d"
      },
      "source": [
        "print(\"clarusway\" and 0 and not \"\" and False and (\" \" or None))"
      ],
      "execution_count": 9,
      "outputs": [
        {
          "output_type": "stream",
          "name": "stdout",
          "text": [
            "0\n"
          ]
        }
      ]
    }
  ]
}