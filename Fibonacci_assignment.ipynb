{
  "nbformat": 4,
  "nbformat_minor": 0,
  "metadata": {
    "colab": {
      "name": "Fibonacci assignment.ipynb",
      "provenance": [],
      "authorship_tag": "ABX9TyNVNy1CDGpATljKeltrtBQo",
      "include_colab_link": true
    },
    "kernelspec": {
      "name": "python3",
      "display_name": "Python 3"
    },
    "language_info": {
      "name": "python"
    }
  },
  "cells": [
    {
      "cell_type": "markdown",
      "metadata": {
        "id": "view-in-github",
        "colab_type": "text"
      },
      "source": [
        "<a href=\"https://colab.research.google.com/github/D1348-Kenan/D1348-Kenan/blob/main/Fibonacci_assignment.ipynb\" target=\"_parent\"><img src=\"https://colab.research.google.com/assets/colab-badge.svg\" alt=\"Open In Colab\"/></a>"
      ]
    },
    {
      "cell_type": "code",
      "metadata": {
        "colab": {
          "base_uri": "https://localhost:8080/"
        },
        "id": "Jth3S7ydpXvR",
        "outputId": "1a141c38-3ed9-4267-b402-34a25992376e"
      },
      "source": [
        "a, b = 1, 1\n",
        "fibo = [a,b]\n",
        "\n",
        "while b < 55 :\n",
        "  a,b = b, a+b\n",
        "  fibo += [b]\n",
        "\n",
        "print(\"fibonacci:\", fibo)"
      ],
      "execution_count": 8,
      "outputs": [
        {
          "output_type": "stream",
          "name": "stdout",
          "text": [
            "fibonacci: [1, 1, 2, 3, 5, 8, 13, 21, 34, 55]\n"
          ]
        }
      ]
    },
    {
      "cell_type": "code",
      "metadata": {
        "id": "_VG613gmqEcr"
      },
      "source": [
        "#fibonacci →  [1, 1, 2, 3, 5, 8, 13, 21, 34, 55]"
      ],
      "execution_count": null,
      "outputs": []
    }
  ]
}