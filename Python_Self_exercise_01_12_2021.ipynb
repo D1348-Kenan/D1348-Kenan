{
  "nbformat": 4,
  "nbformat_minor": 0,
  "metadata": {
    "colab": {
      "name": "Python Self exercise 01.12.2021.ipynb",
      "provenance": [],
      "authorship_tag": "ABX9TyOL/umIJ5Kc9Q77KDrrOeTG",
      "include_colab_link": true
    },
    "kernelspec": {
      "name": "python3",
      "display_name": "Python 3"
    },
    "language_info": {
      "name": "python"
    }
  },
  "cells": [
    {
      "cell_type": "markdown",
      "metadata": {
        "id": "view-in-github",
        "colab_type": "text"
      },
      "source": [
        "<a href=\"https://colab.research.google.com/github/D1348-Kenan/D1348-Kenan/blob/main/Python_Self_exercise_01_12_2021.ipynb\" target=\"_parent\"><img src=\"https://colab.research.google.com/assets/colab-badge.svg\" alt=\"Open In Colab\"/></a>"
      ]
    },
    {
      "cell_type": "code",
      "metadata": {
        "colab": {
          "base_uri": "https://localhost:8080/"
        },
        "id": "vbWl_0GXWozN",
        "outputId": "d6e2209b-dc8a-47e2-8b68-20ca3a3c2f86"
      },
      "source": [
        "list1 = [\"eat\", \"tea\", \"tan\", \"ate\", \"nat\", \"bat\"]\n",
        "anag = {}\n",
        "\n",
        "for i in list1 :\n",
        "  kelime = \"\".join(sorted(i))\n",
        "  if kelime in anag :\n",
        "    anag[kelime].append(i)\n",
        "  else :\n",
        "    anag[kelime] = [i]\n",
        "print(list(anag.values()))"
      ],
      "execution_count": 3,
      "outputs": [
        {
          "output_type": "stream",
          "name": "stdout",
          "text": [
            "[['eat', 'tea', 'ate'], ['tan', 'nat'], ['bat']]\n"
          ]
        }
      ]
    },
    {
      "cell_type": "code",
      "metadata": {
        "id": "UfU0wS8ZZHlX"
      },
      "source": [
        ""
      ],
      "execution_count": null,
      "outputs": []
    },
    {
      "cell_type": "code",
      "metadata": {
        "id": "ZhRWzrmhZHbe"
      },
      "source": [
        "strs = [\"eat\", \"tea\", \"tan\", \"ate\", \"nat\", \"bat\", \"cat\", \"tac\"]\n",
        "group = {}\n",
        "\n",
        "for i in strs :\n",
        "  kelime = \"\".join(sorted(i))\n",
        "  if kelime in group :\n",
        "    group[kelime].append(i)\n",
        "  else :\n",
        "    group[kelime] = [i]\n",
        "\n",
        "print(list(group.values()))"
      ],
      "execution_count": null,
      "outputs": []
    },
    {
      "cell_type": "code",
      "metadata": {
        "id": "4tTM-GavL4lO"
      },
      "source": [
        ""
      ],
      "execution_count": null,
      "outputs": []
    }
  ]
}