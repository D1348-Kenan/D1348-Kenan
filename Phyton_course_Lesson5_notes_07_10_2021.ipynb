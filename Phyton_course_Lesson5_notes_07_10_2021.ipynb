{
  "nbformat": 4,
  "nbformat_minor": 0,
  "metadata": {
    "colab": {
      "name": "Phyton course Lesson5 notes 07.10.2021.ipynb",
      "provenance": [],
      "authorship_tag": "ABX9TyPMtisHtMMIHJRQywDrH1Cb",
      "include_colab_link": true
    },
    "kernelspec": {
      "name": "python3",
      "display_name": "Python 3"
    },
    "language_info": {
      "name": "python"
    }
  },
  "cells": [
    {
      "cell_type": "markdown",
      "metadata": {
        "id": "view-in-github",
        "colab_type": "text"
      },
      "source": [
        "<a href=\"https://colab.research.google.com/github/D1348-Kenan/D1348-Kenan/blob/main/Phyton_course_Lesson5_notes_07_10_2021.ipynb\" target=\"_parent\"><img src=\"https://colab.research.google.com/assets/colab-badge.svg\" alt=\"Open In Colab\"/></a>"
      ]
    },
    {
      "cell_type": "code",
      "metadata": {
        "colab": {
          "base_uri": "https://localhost:8080/"
        },
        "id": "nIEVp7961MP1",
        "outputId": "18a0cd02-4543-4722-df48-84e687e92feb"
      },
      "source": [
        "str_one = 'upper'\n",
        "str_one += 'case'\n",
        "print(str_one)\n",
        "str_one += 'letter'\n",
        "print(str_one)\n",
        "str_one += 'end'\n",
        "print(str_one)"
      ],
      "execution_count": 7,
      "outputs": [
        {
          "output_type": "stream",
          "name": "stdout",
          "text": [
            "uppercase\n",
            "uppercaseletter\n",
            "uppercaseletterend\n"
          ]
        }
      ]
    },
    {
      "cell_type": "code",
      "metadata": {
        "id": "JDG_71u52ZW1"
      },
      "source": [
        "\"metodlar\"."
      ],
      "execution_count": null,
      "outputs": []
    },
    {
      "cell_type": "code",
      "metadata": {
        "id": "FDuiLtJE2bWK"
      },
      "source": [
        "değişkenn = \"string\""
      ],
      "execution_count": null,
      "outputs": []
    },
    {
      "cell_type": "code",
      "metadata": {
        "id": "fuEH8IuV2bvc"
      },
      "source": [
        "saat = \"05:00\"\n",
        "yer = \"okul\"\n",
        "miktar = 5\n",
        "Ben sabah {saat} de uyandım. {yer}' '"
      ],
      "execution_count": null,
      "outputs": []
    },
    {
      "cell_type": "code",
      "metadata": {
        "colab": {
          "base_uri": "https://localhost:8080/",
          "height": 130
        },
        "id": "DUBJl8I42cVP",
        "outputId": "dca611ce-60e3-4212-8ce0-9da2e8b56cf0"
      },
      "source": [
        "name = \"MARIAM\"\n",
        "text = f\"My name is\" {name.capitalize()}\"\n",
        "print(text)"
      ],
      "execution_count": 12,
      "outputs": [
        {
          "output_type": "error",
          "ename": "SyntaxError",
          "evalue": "ignored",
          "traceback": [
            "\u001b[0;36m  File \u001b[0;32m\"<ipython-input-12-da029215cf57>\"\u001b[0;36m, line \u001b[0;32m2\u001b[0m\n\u001b[0;31m    text = f\"My name is\" {name.capitalize()}\"\u001b[0m\n\u001b[0m                         ^\u001b[0m\n\u001b[0;31mSyntaxError\u001b[0m\u001b[0;31m:\u001b[0m invalid syntax\n"
          ]
        }
      ]
    },
    {
      "cell_type": "code",
      "metadata": {
        "colab": {
          "base_uri": "https://localhost:8080/"
        },
        "id": "AXSYo7ZX2c4A",
        "outputId": "56468126-3002-4780-bb36-267fb91f7c7b"
      },
      "source": [
        "name = 'Susan'\n",
        "age = 'young'\n",
        "gender = 'lady'\n",
        "school = 'CLRWY IT University'\n",
        "\n",
        "task =(  \n",
        "  f\"{name} is a {age} \"\n",
        "  f\"{gender} and she is a student \"\n",
        "  f\"at the {school}\"\n",
        ")\n",
        "print(task)"
      ],
      "execution_count": 17,
      "outputs": [
        {
          "output_type": "stream",
          "name": "stdout",
          "text": [
            "Susan is a young lady and she is a student at the CLRWY IT University\n"
          ]
        }
      ]
    },
    {
      "cell_type": "code",
      "metadata": {
        "colab": {
          "base_uri": "https://localhost:8080/"
        },
        "id": "fbI8DgUy2dJ7",
        "outputId": "85cc8677-3bac-4fb3-df9c-e2124ad88a01"
      },
      "source": [
        "word = 'clarusway'\n",
        "n = 3\n",
        "front = (word[0:n])\n",
        "back = (word[n+1:])\n",
        "print(front + back)"
      ],
      "execution_count": 8,
      "outputs": [
        {
          "output_type": "stream",
          "name": "stdout",
          "text": [
            "clausway\n"
          ]
        }
      ]
    },
    {
      "cell_type": "code",
      "metadata": {
        "colab": {
          "base_uri": "https://localhost:8080/"
        },
        "id": "uVxw3IzQ2dY8",
        "outputId": "f8a3b5aa-5fa3-47d3-c6da-e9b784b0dd85"
      },
      "source": [
        "text = \"{}! I am a {} programmer and I {} Clarusway.\".format(\"Hello\", \"new\", \"love\")\n",
        "print(text)"
      ],
      "execution_count": 10,
      "outputs": [
        {
          "output_type": "stream",
          "name": "stdout",
          "text": [
            "Hello! I am a new programmer and I love Clarusway.\n"
          ]
        }
      ]
    },
    {
      "cell_type": "code",
      "metadata": {
        "colab": {
          "base_uri": "https://localhost:8080/"
        },
        "id": "OnWSIJCF2dnp",
        "outputId": "7a63fa14-175c-4e1d-a0dd-979277e58f4c"
      },
      "source": [
        "city = \"SARAJEVO\"\n",
        "text = f\"I live in {city.capitalize()}\"\n",
        "\n",
        "print(text)"
      ],
      "execution_count": 23,
      "outputs": [
        {
          "output_type": "stream",
          "name": "stdout",
          "text": [
            "I live in Sarajevo\n"
          ]
        }
      ]
    },
    {
      "cell_type": "code",
      "metadata": {
        "id": "7CB49Wqk2ehi"
      },
      "source": [
        ""
      ],
      "execution_count": null,
      "outputs": []
    },
    {
      "cell_type": "code",
      "metadata": {
        "id": "l6YB-n4E2esM"
      },
      "source": [
        ""
      ],
      "execution_count": null,
      "outputs": []
    }
  ]
}